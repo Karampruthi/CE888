{
  "nbformat": 4,
  "nbformat_minor": 0,
  "metadata": {
    "accelerator": "GPU",
    "colab": {
      "name": "offensive_bert.ipynb",
      "provenance": [],
      "include_colab_link": true
    },
    "kernelspec": {
      "display_name": "Python 3",
      "language": "python",
      "name": "python3"
    },
    "language_info": {
      "codemirror_mode": {
        "name": "ipython",
        "version": 3
      },
      "file_extension": ".py",
      "mimetype": "text/x-python",
      "name": "python",
      "nbconvert_exporter": "python",
      "pygments_lexer": "ipython3",
      "version": "3.8.5"
    }
  },
  "cells": [
    {
      "cell_type": "markdown",
      "metadata": {
        "id": "view-in-github",
        "colab_type": "text"
      },
      "source": [
        "<a href=\"https://colab.research.google.com/github/Karampruthi/CE888-Data-Science-Decision-making/blob/main/offensive_bert.ipynb\" target=\"_parent\"><img src=\"https://colab.research.google.com/assets/colab-badge.svg\" alt=\"Open In Colab\"/></a>"
      ]
    },
    {
      "cell_type": "code",
      "metadata": {
        "colab": {
          "base_uri": "https://localhost:8080/"
        },
        "id": "M8-DLs9Imajv",
        "outputId": "129e0d82-b1c6-46c9-f51d-11324ef605ba"
      },
      "source": [
        "import nltk\n",
        "import pandas as pd\n",
        "import numpy as np\n",
        "from nltk.stem.porter import PorterStemmer\n",
        "from nltk.tokenize import TweetTokenizer\n",
        "from nltk.tokenize import word_tokenize \n",
        "from nltk.corpus import stopwords\n",
        "import re\n",
        "from nltk.stem import WordNetLemmatizer\n",
        "stemmer = PorterStemmer()\n",
        "lemmatizer = WordNetLemmatizer()\n",
        "from textblob import TextBlob\n",
        "import requests\n",
        "from collections import Counter\n",
        "\n",
        "import warnings\n",
        "warnings.filterwarnings('ignore')\n",
        "\n",
        "import nltk\n",
        "nltk.download('stopwords')\n",
        "nltk.download('words')\n",
        "stop_words = stopwords.words('english')\n",
        "words = set(nltk.corpus.words.words())"
      ],
      "execution_count": 76,
      "outputs": [
        {
          "output_type": "stream",
          "text": [
            "[nltk_data] Downloading package stopwords to /root/nltk_data...\n",
            "[nltk_data]   Package stopwords is already up-to-date!\n",
            "[nltk_data] Downloading package words to /root/nltk_data...\n",
            "[nltk_data]   Package words is already up-to-date!\n"
          ],
          "name": "stdout"
        }
      ]
    },
    {
      "cell_type": "markdown",
      "metadata": {
        "id": "jMJAdTbTmajz"
      },
      "source": [
        "# Loading the Data"
      ]
    },
    {
      "cell_type": "code",
      "metadata": {
        "id": "fsMXh2RSmaj0"
      },
      "source": [
        "text = requests.get('https://raw.githubusercontent.com/cardiffnlp/tweeteval/main/datasets/offensive/train_text.txt').text\n",
        "label = requests.get('https://raw.githubusercontent.com/cardiffnlp/tweeteval/main/datasets/offensive/train_labels.txt').text\n",
        "val_text = requests.get('https://raw.githubusercontent.com/cardiffnlp/tweeteval/main/datasets/offensive/val_text.txt').text\n",
        "val_label = requests.get('https://raw.githubusercontent.com/cardiffnlp/tweeteval/main/datasets/offensive/val_labels.txt').text\n",
        "text_test = requests.get('https://raw.githubusercontent.com/cardiffnlp/tweeteval/main/datasets/offensive/test_text.txt').text\n",
        "label_test = requests.get('https://raw.githubusercontent.com/cardiffnlp/tweeteval/main/datasets/offensive/test_labels.txt').text"
      ],
      "execution_count": 77,
      "outputs": []
    },
    {
      "cell_type": "markdown",
      "metadata": {
        "id": "vpsH3DxFmaj1"
      },
      "source": [
        "# Text PreProcessing"
      ]
    },
    {
      "cell_type": "code",
      "metadata": {
        "id": "W3rw9tNUmaj1"
      },
      "source": [
        "def process(label,text):\n",
        "    \n",
        "    tag = []\n",
        "    for sent in label.split(\"\\n\"):\n",
        "        try:\n",
        "            tag.append(int(sent))\n",
        "        except ValueError:\n",
        "            pass\n",
        "\n",
        "    tweet = []\n",
        "    for text in text.split('\\n'):\n",
        "        try:\n",
        "            tweet.append(text)\n",
        "        except ValueError:\n",
        "            pass\n",
        "        \n",
        "    data = {'tweet':tweet[:-1],'tag':tag}\n",
        "    df = pd.DataFrame(data)\n",
        "    df['class'] = df.tag.apply(lambda x:'not-hate' if x==0 else 'hate')\n",
        "    return df"
      ],
      "execution_count": 78,
      "outputs": []
    },
    {
      "cell_type": "code",
      "metadata": {
        "id": "u2VModePmaj1"
      },
      "source": [
        "df = process(label,text)\n",
        "df_val = process(val_label,val_text)\n",
        "df_test = process(label_test,text_test)\n",
        "\n",
        "lst = [train_cleaned, val_cleaned]\n",
        "train_cleaned = pd.DataFrame(np.concatenate(lst),columns=val_cleaned.columns)"
      ],
      "execution_count": 79,
      "outputs": []
    },
    {
      "cell_type": "code",
      "metadata": {
        "colab": {
          "base_uri": "https://localhost:8080/",
          "height": 419
        },
        "id": "3C0UrcVDmaj2",
        "outputId": "bf8b9bcc-7c1d-4e87-c321-1b4c9bb5a0d3"
      },
      "source": [
        "df"
      ],
      "execution_count": 80,
      "outputs": [
        {
          "output_type": "execute_result",
          "data": {
            "text/html": [
              "<div>\n",
              "<style scoped>\n",
              "    .dataframe tbody tr th:only-of-type {\n",
              "        vertical-align: middle;\n",
              "    }\n",
              "\n",
              "    .dataframe tbody tr th {\n",
              "        vertical-align: top;\n",
              "    }\n",
              "\n",
              "    .dataframe thead th {\n",
              "        text-align: right;\n",
              "    }\n",
              "</style>\n",
              "<table border=\"1\" class=\"dataframe\">\n",
              "  <thead>\n",
              "    <tr style=\"text-align: right;\">\n",
              "      <th></th>\n",
              "      <th>tweet</th>\n",
              "      <th>tag</th>\n",
              "      <th>class</th>\n",
              "    </tr>\n",
              "  </thead>\n",
              "  <tbody>\n",
              "    <tr>\n",
              "      <th>0</th>\n",
              "      <td>@user Bono... who cares. Soon people will unde...</td>\n",
              "      <td>0</td>\n",
              "      <td>not-hate</td>\n",
              "    </tr>\n",
              "    <tr>\n",
              "      <th>1</th>\n",
              "      <td>@user Eight years the republicans denied obama...</td>\n",
              "      <td>1</td>\n",
              "      <td>hate</td>\n",
              "    </tr>\n",
              "    <tr>\n",
              "      <th>2</th>\n",
              "      <td>@user Get him some line help. He is gonna be j...</td>\n",
              "      <td>0</td>\n",
              "      <td>not-hate</td>\n",
              "    </tr>\n",
              "    <tr>\n",
              "      <th>3</th>\n",
              "      <td>@user @user She is great. Hi Fiona!</td>\n",
              "      <td>0</td>\n",
              "      <td>not-hate</td>\n",
              "    </tr>\n",
              "    <tr>\n",
              "      <th>4</th>\n",
              "      <td>@user She has become a parody unto herself? Sh...</td>\n",
              "      <td>1</td>\n",
              "      <td>hate</td>\n",
              "    </tr>\n",
              "    <tr>\n",
              "      <th>...</th>\n",
              "      <td>...</td>\n",
              "      <td>...</td>\n",
              "      <td>...</td>\n",
              "    </tr>\n",
              "    <tr>\n",
              "      <th>11911</th>\n",
              "      <td>@user I wonder if they are sex traffic victims?</td>\n",
              "      <td>1</td>\n",
              "      <td>hate</td>\n",
              "    </tr>\n",
              "    <tr>\n",
              "      <th>11912</th>\n",
              "      <td>@user Do we dare say he is... better than Nyjer?</td>\n",
              "      <td>0</td>\n",
              "      <td>not-hate</td>\n",
              "    </tr>\n",
              "    <tr>\n",
              "      <th>11913</th>\n",
              "      <td>@user No idea who he is. Sorry</td>\n",
              "      <td>0</td>\n",
              "      <td>not-hate</td>\n",
              "    </tr>\n",
              "    <tr>\n",
              "      <th>11914</th>\n",
              "      <td>#Professor Who Shot Self Over Trump Says Gun C...</td>\n",
              "      <td>0</td>\n",
              "      <td>not-hate</td>\n",
              "    </tr>\n",
              "    <tr>\n",
              "      <th>11915</th>\n",
              "      <td>@user @user @user Here your proof!  Our Africa...</td>\n",
              "      <td>1</td>\n",
              "      <td>hate</td>\n",
              "    </tr>\n",
              "  </tbody>\n",
              "</table>\n",
              "<p>11916 rows × 3 columns</p>\n",
              "</div>"
            ],
            "text/plain": [
              "                                                   tweet  tag     class\n",
              "0      @user Bono... who cares. Soon people will unde...    0  not-hate\n",
              "1      @user Eight years the republicans denied obama...    1      hate\n",
              "2      @user Get him some line help. He is gonna be j...    0  not-hate\n",
              "3                   @user @user She is great. Hi Fiona!     0  not-hate\n",
              "4      @user She has become a parody unto herself? Sh...    1      hate\n",
              "...                                                  ...  ...       ...\n",
              "11911   @user I wonder if they are sex traffic victims?     1      hate\n",
              "11912  @user Do we dare say he is... better than Nyjer?     0  not-hate\n",
              "11913                    @user No idea who he is. Sorry     0  not-hate\n",
              "11914  #Professor Who Shot Self Over Trump Says Gun C...    0  not-hate\n",
              "11915  @user @user @user Here your proof!  Our Africa...    1      hate\n",
              "\n",
              "[11916 rows x 3 columns]"
            ]
          },
          "metadata": {
            "tags": []
          },
          "execution_count": 80
        }
      ]
    },
    {
      "cell_type": "markdown",
      "metadata": {
        "id": "_7C7bKfomaj3"
      },
      "source": [
        "## Text Cleaning"
      ]
    },
    {
      "cell_type": "code",
      "metadata": {
        "id": "tv5Xb1kjmaj3"
      },
      "source": [
        "def cleaner(tweet):\n",
        "    \n",
        "    tweet = re.sub(r\"(@[A-Za-z0-9]+)|([^0-9A-Za-z \\t])|(\\w+:\\/\\/\\S+)|^rt|http.+?\", \"\", tweet)\n",
        "    tweet = tweet.lower()\n",
        "    # tweet = tweet.split()\n",
        "#     tweet = ([word for word in tweet if not word in stop_words])\n",
        "#     tweet = \" \".join([lemmatizer.lemmatize(word) for word in tweet])\n",
        "    # tweet = \" \".join([stemmer.stem(word) for word in tweet])\n",
        "    \n",
        "    tweet = tweet.replace(\"user\", \"\")\n",
        "\n",
        "\n",
        "    return  tweet"
      ],
      "execution_count": 81,
      "outputs": []
    },
    {
      "cell_type": "code",
      "metadata": {
        "id": "fT77qBfQmaj4"
      },
      "source": [
        "def cleanup(df):\n",
        "   \n",
        "    train_cleaned = df['tweet'].apply(cleaner)\n",
        "    df['tweet'] = train_cleaned.apply(lambda x: ' '.join([w for w in x.split() if len(w)>1]))\n",
        "  \n",
        "    return df    "
      ],
      "execution_count": 82,
      "outputs": []
    },
    {
      "cell_type": "code",
      "metadata": {
        "id": "1aWZahQsmaj4"
      },
      "source": [
        "train_cleaned = cleanup(df)\n",
        "val_cleaned = cleanup(df_val)\n",
        "test_cleaned = cleanup(df_test)"
      ],
      "execution_count": 83,
      "outputs": []
    },
    {
      "cell_type": "code",
      "metadata": {
        "colab": {
          "base_uri": "https://localhost:8080/",
          "height": 35
        },
        "id": "vUihvRaAmaj4",
        "scrolled": false,
        "outputId": "9c5029b0-bac8-4a93-b9a7-be07dcb77709"
      },
      "source": [
        "train_cleaned.tweet[0]"
      ],
      "execution_count": 84,
      "outputs": [
        {
          "output_type": "execute_result",
          "data": {
            "application/vnd.google.colaboratory.intrinsic+json": {
              "type": "string"
            },
            "text/plain": [
              "'bono who cares soon people will understand that they gain nothing from following phony celebrity become leader of your people instead or help and support your fellow countrymen'"
            ]
          },
          "metadata": {
            "tags": []
          },
          "execution_count": 84
        }
      ]
    },
    {
      "cell_type": "code",
      "metadata": {
        "colab": {
          "base_uri": "https://localhost:8080/"
        },
        "id": "532Fb4tz3BMX",
        "outputId": "1acd992c-9dee-4a76-a09f-7d36b6f02c82"
      },
      "source": [
        "import torch\n",
        "\n",
        "if torch.cuda.is_available():       \n",
        "    device = torch.device(\"cuda\")\n",
        "    print(f'There are {torch.cuda.device_count()} GPU(s) available.')\n",
        "    print('Device name:', torch.cuda.get_device_name(0))\n",
        "\n",
        "else:\n",
        "    print('No GPU available, using the CPU instead.')\n",
        "    device = torch.device(\"cpu\")"
      ],
      "execution_count": 85,
      "outputs": [
        {
          "output_type": "stream",
          "text": [
            "There are 1 GPU(s) available.\n",
            "Device name: Tesla V100-SXM2-16GB\n"
          ],
          "name": "stdout"
        }
      ]
    },
    {
      "cell_type": "code",
      "metadata": {
        "colab": {
          "base_uri": "https://localhost:8080/"
        },
        "id": "jnCGjAN1nhcg",
        "outputId": "3bfd4f5d-26a3-4ff9-eb8e-878c42b18bde"
      },
      "source": [
        "pip install transformers"
      ],
      "execution_count": 86,
      "outputs": [
        {
          "output_type": "stream",
          "text": [
            "Requirement already satisfied: transformers in /usr/local/lib/python3.7/dist-packages (4.5.1)\n",
            "Requirement already satisfied: packaging in /usr/local/lib/python3.7/dist-packages (from transformers) (20.9)\n",
            "Requirement already satisfied: tqdm>=4.27 in /usr/local/lib/python3.7/dist-packages (from transformers) (4.41.1)\n",
            "Requirement already satisfied: requests in /usr/local/lib/python3.7/dist-packages (from transformers) (2.23.0)\n",
            "Requirement already satisfied: sacremoses in /usr/local/lib/python3.7/dist-packages (from transformers) (0.0.45)\n",
            "Requirement already satisfied: tokenizers<0.11,>=0.10.1 in /usr/local/lib/python3.7/dist-packages (from transformers) (0.10.2)\n",
            "Requirement already satisfied: filelock in /usr/local/lib/python3.7/dist-packages (from transformers) (3.0.12)\n",
            "Requirement already satisfied: numpy>=1.17 in /usr/local/lib/python3.7/dist-packages (from transformers) (1.19.5)\n",
            "Requirement already satisfied: regex!=2019.12.17 in /usr/local/lib/python3.7/dist-packages (from transformers) (2019.12.20)\n",
            "Requirement already satisfied: importlib-metadata; python_version < \"3.8\" in /usr/local/lib/python3.7/dist-packages (from transformers) (3.10.1)\n",
            "Requirement already satisfied: pyparsing>=2.0.2 in /usr/local/lib/python3.7/dist-packages (from packaging->transformers) (2.4.7)\n",
            "Requirement already satisfied: urllib3!=1.25.0,!=1.25.1,<1.26,>=1.21.1 in /usr/local/lib/python3.7/dist-packages (from requests->transformers) (1.24.3)\n",
            "Requirement already satisfied: chardet<4,>=3.0.2 in /usr/local/lib/python3.7/dist-packages (from requests->transformers) (3.0.4)\n",
            "Requirement already satisfied: idna<3,>=2.5 in /usr/local/lib/python3.7/dist-packages (from requests->transformers) (2.10)\n",
            "Requirement already satisfied: certifi>=2017.4.17 in /usr/local/lib/python3.7/dist-packages (from requests->transformers) (2020.12.5)\n",
            "Requirement already satisfied: six in /usr/local/lib/python3.7/dist-packages (from sacremoses->transformers) (1.15.0)\n",
            "Requirement already satisfied: click in /usr/local/lib/python3.7/dist-packages (from sacremoses->transformers) (7.1.2)\n",
            "Requirement already satisfied: joblib in /usr/local/lib/python3.7/dist-packages (from sacremoses->transformers) (1.0.1)\n",
            "Requirement already satisfied: typing-extensions>=3.6.4; python_version < \"3.8\" in /usr/local/lib/python3.7/dist-packages (from importlib-metadata; python_version < \"3.8\"->transformers) (3.7.4.3)\n",
            "Requirement already satisfied: zipp>=0.5 in /usr/local/lib/python3.7/dist-packages (from importlib-metadata; python_version < \"3.8\"->transformers) (3.4.1)\n"
          ],
          "name": "stdout"
        }
      ]
    },
    {
      "cell_type": "code",
      "metadata": {
        "id": "o5s0hfOfmakI"
      },
      "source": [
        "from transformers import BertTokenizer\n",
        "\n",
        "# Load the BERT tokenizer\n",
        "tokenizer = BertTokenizer.from_pretrained('bert-base-uncased')\n",
        "\n",
        "# Create a function to tokenize a set of texts\n",
        "def preprocessing(data,length):\n",
        "  \n",
        "    input_ids = []\n",
        "    attention_masks = []\n",
        "\n",
        "    for sentence in data:\n",
        "   \n",
        "        encoded_sent = tokenizer.encode_plus(\n",
        "            text=sentence,  \n",
        "            add_special_tokens=True,        \n",
        "            max_length=length,              \n",
        "            pad_to_max_length=True,                  \n",
        "            return_attention_mask=True      \n",
        "            )\n",
        "        input_ids.append(encoded_sent.get('input_ids'))\n",
        "        attention_masks.append(encoded_sent.get('attention_mask'))\n",
        "\n",
        "    input_ids = torch.tensor(input_ids)\n",
        "    attention_masks = torch.tensor(attention_masks)\n",
        "\n",
        "    return input_ids, attention_masks"
      ],
      "execution_count": 87,
      "outputs": []
    },
    {
      "cell_type": "code",
      "metadata": {
        "colab": {
          "base_uri": "https://localhost:8080/"
        },
        "id": "rbVE6ZFnmakJ",
        "outputId": "5f934969-89a5-4996-9b95-1dfb234999ce"
      },
      "source": [
        "tweets = np.concatenate([train_cleaned.tweet.values, test_cleaned.tweet.values])\n",
        "tweets_encoded = [tokenizer.encode(sent, add_special_tokens=True,truncation=True) for sent in tweets]\n",
        "max_length = max([len(sent) for sent in tweets_encoded])\n",
        "print('Max length: ', max_length)"
      ],
      "execution_count": 88,
      "outputs": [
        {
          "output_type": "stream",
          "text": [
            "Max length:  86\n"
          ],
          "name": "stdout"
        }
      ]
    },
    {
      "cell_type": "code",
      "metadata": {
        "colab": {
          "base_uri": "https://localhost:8080/"
        },
        "id": "g7CfVVXrmakJ",
        "scrolled": true,
        "outputId": "1d3142cb-5c66-468f-ea16-3298018fc394"
      },
      "source": [
        "data = [train_cleaned.tweet[0]]\n",
        "token_ids = list(preprocessing(data,max_length)[0].squeeze().numpy())\n",
        "print('Original: ', train_cleaned.tweet[0])\n",
        "print('Token IDs: ', token_ids)"
      ],
      "execution_count": 89,
      "outputs": [
        {
          "output_type": "stream",
          "text": [
            "Truncation was not explicitly activated but `max_length` is provided a specific value, please use `truncation=True` to explicitly truncate examples to max length. Defaulting to 'longest_first' truncation strategy. If you encode pairs of sequences (GLUE-style) with the tokenizer you can select this strategy more precisely by providing a specific strategy to `truncation`.\n"
          ],
          "name": "stderr"
        },
        {
          "output_type": "stream",
          "text": [
            "Original:  bono who cares soon people will understand that they gain nothing from following phony celebrity become leader of your people instead or help and support your fellow countrymen\n",
            "Token IDs:  [101, 23648, 2040, 14977, 2574, 2111, 2097, 3305, 2008, 2027, 5114, 2498, 2013, 2206, 6887, 16585, 8958, 2468, 3003, 1997, 2115, 2111, 2612, 2030, 2393, 1998, 2490, 2115, 3507, 2406, 3549, 102, 0, 0, 0, 0, 0, 0, 0, 0, 0, 0, 0, 0, 0, 0, 0, 0, 0, 0, 0, 0, 0, 0, 0, 0, 0, 0, 0, 0, 0, 0, 0, 0, 0, 0, 0, 0, 0, 0, 0, 0, 0, 0, 0, 0, 0, 0, 0, 0, 0, 0, 0, 0, 0, 0]\n"
          ],
          "name": "stdout"
        }
      ]
    },
    {
      "cell_type": "code",
      "metadata": {
        "colab": {
          "base_uri": "https://localhost:8080/"
        },
        "id": "YrrJLU4GmakK",
        "outputId": "acc77678-faa7-455d-e1b1-9baabbe9c8e5"
      },
      "source": [
        "%%time\n",
        "train_inputs, train_masks = preprocessing(train_cleaned.tweet.values,max_length)\n",
        "val_inputs, val_masks = preprocessing(test_cleaned.tweet.values,max_length)"
      ],
      "execution_count": 90,
      "outputs": [
        {
          "output_type": "stream",
          "text": [
            "CPU times: user 7.3 s, sys: 158 ms, total: 7.46 s\n",
            "Wall time: 7.46 s\n"
          ],
          "name": "stdout"
        }
      ]
    },
    {
      "cell_type": "code",
      "metadata": {
        "id": "tIJ0vr44makL"
      },
      "source": [
        "from torch.utils.data import TensorDataset, DataLoader, RandomSampler, SequentialSampler\n",
        "\n",
        "train_labels = torch.tensor(train_cleaned['tag'])\n",
        "val_labels = torch.tensor(test_cleaned['tag'])\n",
        "\n",
        "batch_size = 32\n",
        "\n",
        "train_data = TensorDataset(train_inputs, train_masks, train_labels)\n",
        "train_sampler = RandomSampler(train_data)\n",
        "train_dataloader = DataLoader(train_data, sampler=train_sampler, batch_size=batch_size)\n",
        "\n",
        "val_data = TensorDataset(val_inputs, val_masks, val_labels)\n",
        "val_sampler = SequentialSampler(val_data)\n",
        "val_dataloader = DataLoader(val_data, sampler=val_sampler, batch_size=batch_size)"
      ],
      "execution_count": 91,
      "outputs": []
    },
    {
      "cell_type": "code",
      "metadata": {
        "colab": {
          "base_uri": "https://localhost:8080/"
        },
        "id": "7kDruNw2makM",
        "outputId": "f292e51e-351c-412d-e197-700660622be6"
      },
      "source": [
        "%%time\n",
        "import torch.nn as nn\n",
        "from transformers import BertModel\n",
        "\n",
        "class BertClassifier(nn.Module):\n",
        "\n",
        "    def __init__(self, freeze_bert=False):\n",
        "\n",
        "        super(BertClassifier, self).__init__()\n",
        "        inlet, outlet, b_out  = 768, 50, 2\n",
        "\n",
        "        self.bert = BertModel.from_pretrained('bert-base-uncased')\n",
        "\n",
        "        self.classifier = nn.Sequential(\n",
        "            nn.Dropout(0.15),\n",
        "            nn.Linear(inlet, outlet),\n",
        "            nn.ReLU6(),\n",
        "            nn.Linear(outlet, b_out)\n",
        "        )\n",
        "\n",
        "        if freeze_bert:\n",
        "            for param in self.bert.parameters():\n",
        "                param.requires_grad = False\n",
        "\n",
        "        # for layer in self.bert.encoder.layer[:-2]:\n",
        "        #   for param in layer.parameters():\n",
        "        #     param.requires_grad = False\n",
        "        \n",
        "    def forward(self, input_ids, attention_mask):\n",
        "\n",
        "        outputs = self.bert(input_ids=input_ids,\n",
        "                            attention_mask=attention_mask)\n",
        "        \n",
        "        last_hidden_state_cls = outputs[0][:, 0, :]\n",
        "\n",
        "        logits = self.classifier(last_hidden_state_cls)\n",
        "\n",
        "        return logits"
      ],
      "execution_count": 92,
      "outputs": [
        {
          "output_type": "stream",
          "text": [
            "CPU times: user 24 µs, sys: 12 µs, total: 36 µs\n",
            "Wall time: 40.1 µs\n"
          ],
          "name": "stdout"
        }
      ]
    },
    {
      "cell_type": "code",
      "metadata": {
        "id": "pyJljzrMmakN"
      },
      "source": [
        "from transformers import AdamW, get_linear_schedule_with_warmup\n",
        "\n",
        "def initialize_model(epochs=4):\n",
        "\n",
        "    bert_classifier = BertClassifier()\n",
        "\n",
        "    bert_classifier.to(device)\n",
        "\n",
        "    optimizer = AdamW(bert_classifier.parameters(),\n",
        "                      lr=1e-5,      #1e-5,    \n",
        "                      eps=1e-8   \n",
        "                      )\n",
        "\n",
        "    total_steps = len(train_dataloader) * epochs\n",
        "\n",
        "    scheduler = get_linear_schedule_with_warmup(optimizer,\n",
        "                                                num_warmup_steps=0, \n",
        "                                                num_training_steps=total_steps)\n",
        "    return bert_classifier, optimizer, scheduler"
      ],
      "execution_count": 93,
      "outputs": []
    },
    {
      "cell_type": "code",
      "metadata": {
        "id": "dljM7g6nmakN"
      },
      "source": [
        "import random\n",
        "import time\n",
        "from sklearn.metrics import f1_score\n",
        "\n",
        "loss_fn = nn.CrossEntropyLoss()\n",
        "\n",
        "def set_seed(seed_value=42):\n",
        "\n",
        "    random.seed(seed_value)\n",
        "    np.random.seed(seed_value)\n",
        "    torch.manual_seed(seed_value)\n",
        "    torch.cuda.manual_seed_all(seed_value)\n",
        "\n",
        "def train(model, train_dataloader, val_dataloader=None, epochs=4, evaluation=False):\n",
        "\n",
        "    print(\"Start training...\\n\")\n",
        "    for epoch_i in range(epochs):\n",
        "        # =======================================\n",
        "        #               Training\n",
        "        # =======================================\n",
        "        # Print the header of the result table\n",
        "        print(f\"{'Epoch':^7} | {'Batch':^7} | {'Train Loss':^12} | {'Val Loss':^10} | {'Val Acc':^9} | {'Elapsed':^9}\")\n",
        "        print(\"-\"*70)\n",
        "\n",
        "        # Measure the elapsed time of each epoch\n",
        "        t0_epoch, t0_batch = time.time(), time.time()\n",
        "\n",
        "        # Reset tracking variables at the beginning of each epoch\n",
        "        total_loss, batch_loss, batch_counts = 0, 0, 0\n",
        "\n",
        "        # Put the model into the training mode\n",
        "        model.train()\n",
        "\n",
        "        # For each batch of training data...\n",
        "        for step, batch in enumerate(train_dataloader):\n",
        "            batch_counts +=1\n",
        "            # Load batch to GPU\n",
        "            b_input_ids, b_attn_mask, b_labels = tuple(t.to(device) for t in batch)\n",
        "\n",
        "            # Zero out any previously calculated gradients\n",
        "            model.zero_grad()\n",
        "\n",
        "            # Perform a forward pass. This will return logits.\n",
        "            logits = model(b_input_ids, b_attn_mask)\n",
        "\n",
        "            # Compute loss and accumulate the loss values\n",
        "            loss = loss_fn(logits, b_labels)\n",
        "            batch_loss += loss.item()\n",
        "            total_loss += loss.item()\n",
        "\n",
        "            # Perform a backward pass to calculate gradients\n",
        "            loss.backward()\n",
        "\n",
        "            # Clip the norm of the gradients to 1.0 to prevent \"exploding gradients\"\n",
        "            torch.nn.utils.clip_grad_norm_(model.parameters(), 1.0)\n",
        "\n",
        "            # Update parameters and the learning rate\n",
        "            optimizer.step()\n",
        "            scheduler.step()\n",
        "\n",
        "            # Print the loss values and time elapsed for every 20 batches\n",
        "            if (step % 20 == 0 and step != 0) or (step == len(train_dataloader) - 1):\n",
        "                # Calculate time elapsed for 20 batches\n",
        "                time_elapsed = time.time() - t0_batch\n",
        "\n",
        "                # Print training results\n",
        "                print(f\"{epoch_i + 1:^7} | {step:^7} | {batch_loss / batch_counts:^12.6f} | {'-':^10} | {'-':^9} | {time_elapsed:^9.2f}\")\n",
        "\n",
        "                # Reset batch tracking variables\n",
        "                batch_loss, batch_counts = 0, 0\n",
        "                t0_batch = time.time()\n",
        "\n",
        "        # Calculate the average loss over the entire training data\n",
        "        avg_train_loss = total_loss / len(train_dataloader)\n",
        "\n",
        "        print(\"-\"*70)\n",
        "        # =======================================\n",
        "        #               Evaluation\n",
        "        # =======================================\n",
        "        if evaluation == True:\n",
        "            # After the completion of each training epoch, measure the model's performance\n",
        "            # on our validation set.\n",
        "            val_loss, val_accuracy = evaluate(model, val_dataloader)\n",
        "\n",
        "            # Print performance over the entire training data\n",
        "            time_elapsed = time.time() - t0_epoch\n",
        "            \n",
        "            print(f\"{epoch_i + 1:^7} | {'-':^7} | {avg_train_loss:^12.6f} | {val_loss:^10.6f} | {val_accuracy:^9.2f} | {time_elapsed:^9.2f}\")\n",
        "            print(\"-\"*70)\n",
        "        print(\"\\n\")\n",
        "    \n",
        "    print(\"Training complete!\")\n",
        "\n",
        "\n",
        "def evaluate(model, val_dataloader):\n",
        "    \"\"\"After the completion of each training epoch, measure the model's performance\n",
        "    on our validation set.\n",
        "    \"\"\"\n",
        "    # Put the model into the evaluation mode. The dropout layers are disabled during\n",
        "    # the test time.\n",
        "    model.eval()\n",
        "\n",
        "    # Tracking variables\n",
        "    val_accuracy = []\n",
        "    val_loss = []\n",
        "\n",
        "    # For each batch in our validation set...\n",
        "    for batch in val_dataloader:\n",
        "        # Load batch to GPU\n",
        "        b_input_ids, b_attn_mask, b_labels = tuple(t.to(device) for t in batch)\n",
        "\n",
        "        # Compute logits\n",
        "        with torch.no_grad():\n",
        "            logits = model(b_input_ids, b_attn_mask)\n",
        "\n",
        "        # Compute loss\n",
        "        loss = loss_fn(logits, b_labels)\n",
        "        val_loss.append(loss.item())\n",
        "\n",
        "        # Get the predictions\n",
        "        preds = torch.argmax(logits, dim=1).flatten()\n",
        "\n",
        "        # Calculate the accuracy rate\n",
        "        # accuracy = (preds == b_labels).cpu().numpy().mean() * 100\n",
        "\n",
        "\n",
        "        accuracy = f1_score(b_labels.tolist(),preds.tolist(),average = 'macro')\n",
        "        val_accuracy.append(accuracy)\n",
        "\n",
        "    # Compute the average accuracy and loss over the validation set.\n",
        "    val_loss = np.mean(val_loss)\n",
        "    val_accuracy = np.mean(val_accuracy)\n",
        "\n",
        "    return val_loss, val_accuracy"
      ],
      "execution_count": 94,
      "outputs": []
    },
    {
      "cell_type": "code",
      "metadata": {
        "colab": {
          "base_uri": "https://localhost:8080/"
        },
        "id": "VO10-iXWmakO",
        "scrolled": true,
        "outputId": "917629f6-4ea3-4eba-e8b1-0188344b03fc"
      },
      "source": [
        "set_seed(45)    # Set seed for reproducibility\n",
        "bert_classifier, optimizer, scheduler = initialize_model(epochs=4)\n",
        "train(bert_classifier, train_dataloader, val_dataloader, epochs=2, evaluation=True)"
      ],
      "execution_count": 95,
      "outputs": [
        {
          "output_type": "stream",
          "text": [
            "Start training...\n",
            "\n",
            " Epoch  |  Batch  |  Train Loss  |  Val Loss  |  Val Acc  |  Elapsed \n",
            "----------------------------------------------------------------------\n",
            "   1    |   20    |   0.660892   |     -      |     -     |   3.42   \n",
            "   1    |   40    |   0.633673   |     -      |     -     |   3.23   \n",
            "   1    |   60    |   0.620570   |     -      |     -     |   3.24   \n",
            "   1    |   80    |   0.569424   |     -      |     -     |   3.22   \n",
            "   1    |   100   |   0.517918   |     -      |     -     |   3.24   \n",
            "   1    |   120   |   0.482876   |     -      |     -     |   3.24   \n",
            "   1    |   140   |   0.490470   |     -      |     -     |   3.25   \n",
            "   1    |   160   |   0.512202   |     -      |     -     |   3.23   \n",
            "   1    |   180   |   0.464768   |     -      |     -     |   3.26   \n",
            "   1    |   200   |   0.473627   |     -      |     -     |   3.24   \n",
            "   1    |   220   |   0.470028   |     -      |     -     |   3.24   \n",
            "   1    |   240   |   0.455697   |     -      |     -     |   3.25   \n",
            "   1    |   260   |   0.504807   |     -      |     -     |   3.25   \n",
            "   1    |   280   |   0.436647   |     -      |     -     |   3.26   \n",
            "   1    |   300   |   0.447417   |     -      |     -     |   3.24   \n",
            "   1    |   320   |   0.474190   |     -      |     -     |   3.25   \n",
            "   1    |   340   |   0.447280   |     -      |     -     |   3.24   \n",
            "   1    |   360   |   0.455878   |     -      |     -     |   3.25   \n",
            "   1    |   372   |   0.423420   |     -      |     -     |   1.87   \n",
            "----------------------------------------------------------------------\n",
            "   1    |    -    |   0.504314   |  0.371624  |   0.77    |   61.73  \n",
            "----------------------------------------------------------------------\n",
            "\n",
            "\n",
            " Epoch  |  Batch  |  Train Loss  |  Val Loss  |  Val Acc  |  Elapsed \n",
            "----------------------------------------------------------------------\n",
            "   2    |   20    |   0.416011   |     -      |     -     |   3.42   \n",
            "   2    |   40    |   0.375152   |     -      |     -     |   3.25   \n",
            "   2    |   60    |   0.440278   |     -      |     -     |   3.28   \n",
            "   2    |   80    |   0.408731   |     -      |     -     |   3.26   \n",
            "   2    |   100   |   0.463694   |     -      |     -     |   3.25   \n",
            "   2    |   120   |   0.396619   |     -      |     -     |   3.27   \n",
            "   2    |   140   |   0.416109   |     -      |     -     |   3.28   \n",
            "   2    |   160   |   0.379348   |     -      |     -     |   3.25   \n",
            "   2    |   180   |   0.407876   |     -      |     -     |   3.25   \n",
            "   2    |   200   |   0.393404   |     -      |     -     |   3.25   \n",
            "   2    |   220   |   0.419784   |     -      |     -     |   3.25   \n",
            "   2    |   240   |   0.390621   |     -      |     -     |   3.28   \n",
            "   2    |   260   |   0.374436   |     -      |     -     |   3.26   \n",
            "   2    |   280   |   0.391962   |     -      |     -     |   3.27   \n",
            "   2    |   300   |   0.385529   |     -      |     -     |   3.24   \n",
            "   2    |   320   |   0.400720   |     -      |     -     |   3.29   \n",
            "   2    |   340   |   0.388647   |     -      |     -     |   3.27   \n",
            "   2    |   360   |   0.380856   |     -      |     -     |   3.28   \n",
            "   2    |   372   |   0.418547   |     -      |     -     |   1.87   \n",
            "----------------------------------------------------------------------\n",
            "   2    |    -    |   0.402236   |  0.359823  |   0.81    |   62.09  \n",
            "----------------------------------------------------------------------\n",
            "\n",
            "\n",
            "Training complete!\n"
          ],
          "name": "stdout"
        }
      ]
    },
    {
      "cell_type": "code",
      "metadata": {
        "id": "So4CYm9QfKRA"
      },
      "source": [
        ""
      ],
      "execution_count": 95,
      "outputs": []
    }
  ]
}