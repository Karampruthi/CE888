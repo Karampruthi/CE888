{
  "nbformat": 4,
  "nbformat_minor": 0,
  "metadata": {
    "kernelspec": {
      "display_name": "Python 3",
      "language": "python",
      "name": "python3"
    },
    "language_info": {
      "codemirror_mode": {
        "name": "ipython",
        "version": 3
      },
      "file_extension": ".py",
      "mimetype": "text/x-python",
      "name": "python",
      "nbconvert_exporter": "python",
      "pygments_lexer": "ipython3",
      "version": "3.6.5"
    },
    "colab": {
      "name": "CNN.ipynb",
      "provenance": [],
      "include_colab_link": true
    },
    "accelerator": "GPU"
  },
  "cells": [
    {
      "cell_type": "markdown",
      "metadata": {
        "id": "view-in-github",
        "colab_type": "text"
      },
      "source": [
        "<a href=\"https://colab.research.google.com/github/Karampruthi/CE888-Data-Science-Decision-making/blob/main/CNN.ipynb\" target=\"_parent\"><img src=\"https://colab.research.google.com/assets/colab-badge.svg\" alt=\"Open In Colab\"/></a>"
      ]
    },
    {
      "cell_type": "markdown",
      "metadata": {
        "id": "vwRGEQbzGpYQ"
      },
      "source": [
        "# First CNN model for MNIST Dataset\n",
        "\n",
        "* MNIST Dataset is ''Hello World'' of Image Recognition\n",
        "\n",
        "* [Dataset HomePage](http://yann.lecun.com/exdb/mnist/)\n",
        "\n",
        "* History of MNIST Dataset [Watch here](https://www.youtube.com/watch?v=oKzNUGz21JM)\n",
        "\n",
        "\n",
        "---\n",
        "The MNIST database of handwritten digits, available from this page, has a training set of 60,000 examples, and a \n",
        "test set of 10,000 examples. It is a subset of a larger set available from NIST. The digits have been size-normalized and centered in a fixed-size image.\n",
        "\n",
        "![Kitten](https://camo.githubusercontent.com/01c057a753e92a9bc70b8c45d62b295431851c09cffadf53106fc0aea7e2843f/687474703a2f2f692e7974696d672e636f6d2f76692f3051493378675875422d512f687164656661756c742e6a7067)\n"
      ]
    },
    {
      "cell_type": "markdown",
      "metadata": {
        "id": "PhmJOHCpJD_w"
      },
      "source": [
        "# Let's start building our first CNN Model"
      ]
    },
    {
      "cell_type": "code",
      "metadata": {
        "id": "lSyHCSV7jymI"
      },
      "source": [
        "from keras import layers\n",
        "from keras import models"
      ],
      "execution_count": null,
      "outputs": []
    },
    {
      "cell_type": "markdown",
      "metadata": {
        "id": "oWNzCYUUjymN"
      },
      "source": [
        "Importantly, a convnet takes as input tensors of shape (image_height, image_width,\n",
        "image_channels) (not including the batch dimension). In this case, we’ll configure\n",
        "the convnet to process inputs of size (28, 28, 1), which is the format of MNIST\n",
        "images. We’ll do this by passing the argument input_shape=(28, 28, 1) to the first\n",
        "layer."
      ]
    },
    {
      "cell_type": "markdown",
      "metadata": {
        "id": "dM4JLEpwjymN"
      },
      "source": [
        "#### Instantiating a small convnet"
      ]
    },
    {
      "cell_type": "code",
      "metadata": {
        "id": "p-OnpExGjymO",
        "colab": {
          "base_uri": "https://localhost:8080/"
        },
        "outputId": "e021a213-8f16-49dd-a51a-f6612aedc17c"
      },
      "source": [
        "model = models.Sequential()\n",
        "model.add(layers.Conv2D(32, (3, 3), activation='relu', input_shape=(28, 28, 1)))\n",
        "model.add(layers.MaxPooling2D((2, 2)))\n",
        "model.add(layers.Conv2D(64, (3, 3), activation='relu'))\n",
        "model.add(layers.MaxPooling2D((2, 2)))\n",
        "model.add(layers.Conv2D(64, (3, 3), activation='relu'))\n",
        "model.summary()"
      ],
      "execution_count": null,
      "outputs": [
        {
          "output_type": "stream",
          "text": [
            "Model: \"sequential_3\"\n",
            "_________________________________________________________________\n",
            "Layer (type)                 Output Shape              Param #   \n",
            "=================================================================\n",
            "conv2d_9 (Conv2D)            (None, 26, 26, 32)        320       \n",
            "_________________________________________________________________\n",
            "max_pooling2d_6 (MaxPooling2 (None, 13, 13, 32)        0         \n",
            "_________________________________________________________________\n",
            "conv2d_10 (Conv2D)           (None, 11, 11, 64)        18496     \n",
            "_________________________________________________________________\n",
            "max_pooling2d_7 (MaxPooling2 (None, 5, 5, 64)          0         \n",
            "_________________________________________________________________\n",
            "conv2d_11 (Conv2D)           (None, 3, 3, 64)          36928     \n",
            "=================================================================\n",
            "Total params: 55,744\n",
            "Trainable params: 55,744\n",
            "Non-trainable params: 0\n",
            "_________________________________________________________________\n"
          ],
          "name": "stdout"
        }
      ]
    },
    {
      "cell_type": "markdown",
      "metadata": {
        "id": "7gcVG3xkjymR"
      },
      "source": [
        "#### Adding a classifier on top of the convnet"
      ]
    },
    {
      "cell_type": "code",
      "metadata": {
        "id": "C2DfhDJYjymR",
        "colab": {
          "base_uri": "https://localhost:8080/"
        },
        "outputId": "6303ad95-db37-4ab8-a3e9-084eef4934bd"
      },
      "source": [
        "model.add(layers.Flatten())\n",
        "model.add(layers.Dense(64, activation='relu'))\n",
        "model.add(layers.Dense(10, activation='softmax'))\n",
        "model.summary()"
      ],
      "execution_count": null,
      "outputs": [
        {
          "output_type": "stream",
          "text": [
            "Model: \"sequential_3\"\n",
            "_________________________________________________________________\n",
            "Layer (type)                 Output Shape              Param #   \n",
            "=================================================================\n",
            "conv2d_9 (Conv2D)            (None, 26, 26, 32)        320       \n",
            "_________________________________________________________________\n",
            "max_pooling2d_6 (MaxPooling2 (None, 13, 13, 32)        0         \n",
            "_________________________________________________________________\n",
            "conv2d_10 (Conv2D)           (None, 11, 11, 64)        18496     \n",
            "_________________________________________________________________\n",
            "max_pooling2d_7 (MaxPooling2 (None, 5, 5, 64)          0         \n",
            "_________________________________________________________________\n",
            "conv2d_11 (Conv2D)           (None, 3, 3, 64)          36928     \n",
            "_________________________________________________________________\n",
            "flatten_3 (Flatten)          (None, 576)               0         \n",
            "_________________________________________________________________\n",
            "dense_6 (Dense)              (None, 64)                36928     \n",
            "_________________________________________________________________\n",
            "dense_7 (Dense)              (None, 10)                650       \n",
            "=================================================================\n",
            "Total params: 93,322\n",
            "Trainable params: 93,322\n",
            "Non-trainable params: 0\n",
            "_________________________________________________________________\n"
          ],
          "name": "stdout"
        }
      ]
    },
    {
      "cell_type": "markdown",
      "metadata": {
        "id": "NOKVF4nKjymU"
      },
      "source": [
        "### Training the convnet on MNIST images"
      ]
    },
    {
      "cell_type": "code",
      "metadata": {
        "id": "oIcgUbbUjymV"
      },
      "source": [
        "from keras.datasets import mnist\n",
        "from keras.utils import to_categorical"
      ],
      "execution_count": null,
      "outputs": []
    },
    {
      "cell_type": "markdown",
      "metadata": {
        "id": "ZnJ2Pfs_jymX"
      },
      "source": [
        "#### Load Data"
      ]
    },
    {
      "cell_type": "code",
      "metadata": {
        "id": "JpHGHE9MjymY"
      },
      "source": [
        "(train_images, train_labels), (test_images, test_labels) = mnist.load_data()\n",
        "train_images = train_images.reshape((60000, 28, 28, 1))\n",
        "train_images = train_images.astype('float32') / 255\n",
        "test_images = test_images.reshape((10000, 28, 28, 1))\n",
        "test_images = test_images.astype('float32') / 255\n",
        "train_labels = to_categorical(train_labels)\n",
        "test_labels = to_categorical(test_labels)"
      ],
      "execution_count": null,
      "outputs": []
    },
    {
      "cell_type": "markdown",
      "metadata": {
        "id": "4HoTLrfSjymd"
      },
      "source": [
        "#### compile and fit model "
      ]
    },
    {
      "cell_type": "code",
      "metadata": {
        "id": "i23FDtC9jyme",
        "colab": {
          "base_uri": "https://localhost:8080/"
        },
        "outputId": "7945c648-5a56-4357-b098-8b36ae161a84"
      },
      "source": [
        "model.compile(optimizer='rmsprop', \n",
        "              loss='categorical_crossentropy',\n",
        "              metrics=['accuracy'])\n",
        "history = model.fit(train_images, train_labels, epochs=5, batch_size=64, validation_split=0.2)"
      ],
      "execution_count": null,
      "outputs": [
        {
          "output_type": "stream",
          "text": [
            "Epoch 1/5\n",
            "750/750 [==============================] - 4s 4ms/step - loss: 0.4556 - accuracy: 0.8527 - val_loss: 0.0591 - val_accuracy: 0.9815\n",
            "Epoch 2/5\n",
            "750/750 [==============================] - 3s 4ms/step - loss: 0.0572 - accuracy: 0.9825 - val_loss: 0.0410 - val_accuracy: 0.9874\n",
            "Epoch 3/5\n",
            "750/750 [==============================] - 3s 4ms/step - loss: 0.0373 - accuracy: 0.9887 - val_loss: 0.0401 - val_accuracy: 0.9885\n",
            "Epoch 4/5\n",
            "750/750 [==============================] - 3s 4ms/step - loss: 0.0277 - accuracy: 0.9918 - val_loss: 0.0435 - val_accuracy: 0.9880\n",
            "Epoch 5/5\n",
            "750/750 [==============================] - 3s 4ms/step - loss: 0.0191 - accuracy: 0.9939 - val_loss: 0.0408 - val_accuracy: 0.9890\n"
          ],
          "name": "stdout"
        }
      ]
    },
    {
      "cell_type": "markdown",
      "metadata": {
        "id": "9zU8iI5ojymg"
      },
      "source": [
        "#### evaluate model"
      ]
    },
    {
      "cell_type": "code",
      "metadata": {
        "id": "Z3VeaL1Njymh",
        "colab": {
          "base_uri": "https://localhost:8080/"
        },
        "outputId": "946e33ac-6a3c-4bc8-c6ae-b6fd212c1ed3"
      },
      "source": [
        "test_loss, test_acc = model.evaluate(test_images, test_labels)\n",
        "test_acc"
      ],
      "execution_count": null,
      "outputs": [
        {
          "output_type": "stream",
          "text": [
            "313/313 [==============================] - 1s 2ms/step - loss: 0.0355 - accuracy: 0.9893\n"
          ],
          "name": "stdout"
        },
        {
          "output_type": "execute_result",
          "data": {
            "text/plain": [
              "0.989300012588501"
            ]
          },
          "metadata": {
            "tags": []
          },
          "execution_count": 30
        }
      ]
    },
    {
      "cell_type": "code",
      "metadata": {
        "id": "wXNZOY7Sjymj",
        "colab": {
          "base_uri": "https://localhost:8080/",
          "height": 545
        },
        "outputId": "ccaad414-91c3-460d-c373-fda93db74098"
      },
      "source": [
        "import matplotlib.pyplot as plt\n",
        "\n",
        "acc = history.history['accuracy']\n",
        "val_acc = history.history['val_accuracy']\n",
        "loss = history.history['loss']\n",
        "val_loss = history.history['val_loss']\n",
        "\n",
        "epochs = range(1, len(acc) + 1)\n",
        "\n",
        "plt.plot(epochs, acc, 'bo', label='Training acc')\n",
        "plt.plot(epochs, val_acc, 'b', label='Validation acc')\n",
        "plt.title('Training and validation accuracy')\n",
        "plt.legend()\n",
        "\n",
        "plt.figure()\n",
        "\n",
        "plt.plot(epochs, loss, 'bo', label='Training loss')\n",
        "plt.plot(epochs, val_loss, 'b', label='Validation loss')\n",
        "plt.title('Training and validation loss')\n",
        "plt.legend()\n",
        "\n",
        "plt.show()"
      ],
      "execution_count": null,
      "outputs": [
        {
          "output_type": "display_data",
          "data": {
            "image/png": "[encoded data removed]",
            "text/plain": [
              "<Figure size 432x288 with 1 Axes>"
            ]
          },
          "metadata": {
            "tags": [],
            "needs_background": "light"
          }
        },
        {
          "output_type": "display_data",
          "data": {
            "image/png": "[encoded data removed]",
            "text/plain": [
              "<Figure size 432x288 with 1 Axes>"
            ]
          },
          "metadata": {
            "tags": [],
            "needs_background": "light"
          }
        }
      ]
    },
    {
      "cell_type": "markdown",
      "metadata": {
        "id": "dsQMc0Iojyml"
      },
      "source": [
        "## Task 1\n",
        "\n",
        "Change the activation function and other parameters such as optimizer to see the effect on the network and it's performance. If possible create a grid search. "
      ]
    },
    {
      "cell_type": "code",
      "metadata": {
        "id": "owJ-29BrJXNa"
      },
      "source": [
        "def CNN(optimizer, activation):  \n",
        "  model = models.Sequential()\n",
        "  model.add(layers.Conv2D(32, (3, 3), activation=activation, input_shape=(28, 28, 1)))\n",
        "  model.add(layers.MaxPooling2D((2, 2)))\n",
        "  model.add(layers.Conv2D(64, (3, 3), activation=activation))\n",
        "  model.add(layers.MaxPooling2D((2, 2)))\n",
        "  model.add(layers.Conv2D(64, (3, 3), activation=activation))\n",
        "\n",
        "  model.add(layers.Flatten())\n",
        "  model.add(layers.Dense(64, activation=activation))\n",
        "  model.add(layers.Dense(10, activation='softmax'))\n",
        "\n",
        "  model.compile(optimizer=optimizer, loss='categorical_crossentropy', metrics=['accuracy'])\n",
        "  # model.fit(train_images, train_labels, epochs=5, batch_size=64, validation_split=0.2)\n",
        "\n",
        "  return model"
      ],
      "execution_count": null,
      "outputs": []
    },
    {
      "cell_type": "markdown",
      "metadata": {
        "id": "i94yYaxV6LWF"
      },
      "source": [
        "**Grid Search For Optimizer & Activation Function**\n",
        "\n"
      ]
    },
    {
      "cell_type": "code",
      "metadata": {
        "colab": {
          "base_uri": "https://localhost:8080/"
        },
        "id": "R3oDFbxRgAmt",
        "outputId": "93172ab1-b519-45cf-a11c-e2dfba7f1c29"
      },
      "source": [
        "from sklearn.model_selection import GridSearchCV\n",
        "from keras.wrappers.scikit_learn import KerasClassifier\n",
        "model = KerasClassifier(build_fn=CNN, epochs=5, batch_size=64, verbose=0)\n",
        "# define the grid search parameters\n",
        "optimizer = ['SGD', 'RMSprop', 'Adagrad', 'Adadelta', 'Adam', 'Adamax', 'Nadam']\n",
        "activation = ['softmax', 'softplus', 'softsign', 'relu', 'tanh', 'sigmoid', 'hard_sigmoid', 'linear']\n",
        "param_grid = dict(optimizer=optimizer, activation=activation)\n",
        "grid = GridSearchCV(estimator=model, param_grid=param_grid, n_jobs=-1, cv=3)\n",
        "grid_result = grid.fit(train_images, train_labels, validation_split=0.2)\n",
        "# summarize results\n",
        "print(\"Best: %f using %s\" % (grid_result.best_score_, grid_result.best_params_))\n",
        "means = grid_result.cv_results_['mean_test_score']\n",
        "stds = grid_result.cv_results_['std_test_score']\n",
        "params = grid_result.cv_results_['params']\n",
        "for mean, stdev, param in zip(means, stds, params):\n",
        "    print(\"%f (%f) with: %r\" % (mean, stdev, param))"
      ],
      "execution_count": null,
      "outputs": [
        {
          "output_type": "stream",
          "text": [
            "/usr/local/lib/python3.7/dist-packages/joblib/externals/loky/process_executor.py:691: UserWarning: A worker stopped while some jobs were given to the executor. This can be caused by a too short worker timeout or by a memory leak.\n",
            "  \"timeout or by a memory leak.\", UserWarning\n"
          ],
          "name": "stderr"
        },
        {
          "output_type": "stream",
          "text": [
            "Best: 0.986683 using {'activation': 'softsign', 'optimizer': 'Adam'}\n",
            "0.112367 (0.002416) with: {'activation': 'softmax', 'optimizer': 'SGD'}\n",
            "0.537783 (0.132346) with: {'activation': 'softmax', 'optimizer': 'RMSprop'}\n",
            "0.112367 (0.002416) with: {'activation': 'softmax', 'optimizer': 'Adagrad'}\n",
            "0.100917 (0.002289) with: {'activation': 'softmax', 'optimizer': 'Adadelta'}\n",
            "0.757017 (0.053768) with: {'activation': 'softmax', 'optimizer': 'Adam'}\n",
            "0.112367 (0.002416) with: {'activation': 'softmax', 'optimizer': 'Adamax'}\n",
            "0.632583 (0.067387) with: {'activation': 'softmax', 'optimizer': 'Nadam'}\n",
            "0.899283 (0.010226) with: {'activation': 'softplus', 'optimizer': 'SGD'}\n",
            "0.978333 (0.001998) with: {'activation': 'softplus', 'optimizer': 'RMSprop'}\n",
            "0.284750 (0.160996) with: {'activation': 'softplus', 'optimizer': 'Adagrad'}\n",
            "0.112367 (0.002416) with: {'activation': 'softplus', 'optimizer': 'Adadelta'}\n",
            "0.979017 (0.001004) with: {'activation': 'softplus', 'optimizer': 'Adam'}\n",
            "0.967850 (0.002207) with: {'activation': 'softplus', 'optimizer': 'Adamax'}\n",
            "0.980383 (0.001287) with: {'activation': 'softplus', 'optimizer': 'Nadam'}\n",
            "0.910200 (0.004224) with: {'activation': 'softsign', 'optimizer': 'SGD'}\n",
            "0.984667 (0.000646) with: {'activation': 'softsign', 'optimizer': 'RMSprop'}\n",
            "0.824883 (0.008093) with: {'activation': 'softsign', 'optimizer': 'Adagrad'}\n",
            "0.541900 (0.003579) with: {'activation': 'softsign', 'optimizer': 'Adadelta'}\n",
            "0.986683 (0.000544) with: {'activation': 'softsign', 'optimizer': 'Adam'}\n",
            "0.982517 (0.000464) with: {'activation': 'softsign', 'optimizer': 'Adamax'}\n",
            "0.985667 (0.000920) with: {'activation': 'softsign', 'optimizer': 'Nadam'}\n",
            "0.957883 (0.002053) with: {'activation': 'relu', 'optimizer': 'SGD'}\n",
            "0.985850 (0.001485) with: {'activation': 'relu', 'optimizer': 'RMSprop'}\n",
            "0.875483 (0.008711) with: {'activation': 'relu', 'optimizer': 'Adagrad'}\n",
            "0.315600 (0.028371) with: {'activation': 'relu', 'optimizer': 'Adadelta'}\n",
            "0.985683 (0.001782) with: {'activation': 'relu', 'optimizer': 'Adam'}\n",
            "0.983250 (0.000648) with: {'activation': 'relu', 'optimizer': 'Adamax'}\n",
            "0.984883 (0.002007) with: {'activation': 'relu', 'optimizer': 'Nadam'}\n",
            "0.946300 (0.000178) with: {'activation': 'tanh', 'optimizer': 'SGD'}\n",
            "0.984683 (0.000793) with: {'activation': 'tanh', 'optimizer': 'RMSprop'}\n",
            "0.892333 (0.002527) with: {'activation': 'tanh', 'optimizer': 'Adagrad'}\n",
            "0.580217 (0.018891) with: {'activation': 'tanh', 'optimizer': 'Adadelta'}\n",
            "0.986000 (0.000951) with: {'activation': 'tanh', 'optimizer': 'Adam'}\n",
            "0.983317 (0.000448) with: {'activation': 'tanh', 'optimizer': 'Adamax'}\n",
            "0.984233 (0.001544) with: {'activation': 'tanh', 'optimizer': 'Nadam'}\n",
            "0.106500 (0.007411) with: {'activation': 'sigmoid', 'optimizer': 'SGD'}\n",
            "0.969550 (0.002327) with: {'activation': 'sigmoid', 'optimizer': 'RMSprop'}\n",
            "0.112367 (0.002416) with: {'activation': 'sigmoid', 'optimizer': 'Adagrad'}\n",
            "0.103500 (0.007630) with: {'activation': 'sigmoid', 'optimizer': 'Adadelta'}\n",
            "0.971700 (0.004416) with: {'activation': 'sigmoid', 'optimizer': 'Adam'}\n",
            "0.945750 (0.005662) with: {'activation': 'sigmoid', 'optimizer': 'Adamax'}\n",
            "0.976783 (0.002027) with: {'activation': 'sigmoid', 'optimizer': 'Nadam'}\n",
            "0.109233 (0.003863) with: {'activation': 'hard_sigmoid', 'optimizer': 'SGD'}\n",
            "0.971367 (0.000866) with: {'activation': 'hard_sigmoid', 'optimizer': 'RMSprop'}\n",
            "0.112367 (0.002416) with: {'activation': 'hard_sigmoid', 'optimizer': 'Adagrad'}\n",
            "0.100517 (0.005966) with: {'activation': 'hard_sigmoid', 'optimizer': 'Adadelta'}\n",
            "0.971167 (0.001586) with: {'activation': 'hard_sigmoid', 'optimizer': 'Adam'}\n",
            "0.943967 (0.003714) with: {'activation': 'hard_sigmoid', 'optimizer': 'Adamax'}\n",
            "0.974183 (0.000935) with: {'activation': 'hard_sigmoid', 'optimizer': 'Nadam'}\n",
            "0.961533 (0.001021) with: {'activation': 'linear', 'optimizer': 'SGD'}\n",
            "0.976117 (0.002622) with: {'activation': 'linear', 'optimizer': 'RMSprop'}\n",
            "0.900867 (0.004020) with: {'activation': 'linear', 'optimizer': 'Adagrad'}\n",
            "0.652417 (0.040130) with: {'activation': 'linear', 'optimizer': 'Adadelta'}\n",
            "0.974983 (0.003550) with: {'activation': 'linear', 'optimizer': 'Adam'}\n",
            "0.978267 (0.000103) with: {'activation': 'linear', 'optimizer': 'Adamax'}\n",
            "0.978167 (0.001675) with: {'activation': 'linear', 'optimizer': 'Nadam'}\n",
            "CPU times: user 25.5 s, sys: 14.6 s, total: 40.1 s\n",
            "Wall time: 26min 29s\n"
          ],
          "name": "stdout"
        }
      ]
    },
    {
      "cell_type": "markdown",
      "metadata": {
        "id": "NXRQc37Z6W_X"
      },
      "source": [
        "**Grid Search For Batch Size**"
      ]
    },
    {
      "cell_type": "code",
      "metadata": {
        "id": "B7idpUn8wYD1"
      },
      "source": [
        "def create_model():  \n",
        "  model = models.Sequential()\n",
        "  model.add(layers.Conv2D(32, (3, 3), activation='softsign', input_shape=(28, 28, 1)))\n",
        "  model.add(layers.MaxPooling2D((2, 2)))\n",
        "  model.add(layers.Conv2D(64, (3, 3), activation='softsign'))\n",
        "  model.add(layers.MaxPooling2D((2, 2)))\n",
        "  model.add(layers.Conv2D(64, (3, 3), activation='softsign'))\n",
        "\n",
        "  model.add(layers.Flatten())\n",
        "  model.add(layers.Dense(64, activation='softsign'))\n",
        "  model.add(layers.Dense(10, activation='softmax'))\n",
        "\n",
        "  model.compile(optimizer='Adam', loss='categorical_crossentropy', metrics=['accuracy'])\n",
        "  \n",
        "\n",
        "  return model"
      ],
      "execution_count": null,
      "outputs": []
    },
    {
      "cell_type": "code",
      "metadata": {
        "colab": {
          "base_uri": "https://localhost:8080/"
        },
        "id": "yHNY8jkoe0Ba",
        "outputId": "de8ec68d-3218-47ff-9ae2-cb9d85b7f01b"
      },
      "source": [
        "# define the grid search parameters\n",
        "batch_size = [10, 20, 40, 60, 80, 100]\n",
        "model = KerasClassifier(build_fn=create_model, epochs=5, verbose=0)\n",
        "param_grid = dict(batch_size=batch_size)\n",
        "grid = GridSearchCV(estimator=model, param_grid=param_grid,n_jobs=-1, cv=3)\n",
        "grid_result = grid.fit(train_images, train_labels, validation_split=0.2)\n",
        "# summarize results\n",
        "print(\"Best: %f using %s\" % (grid_result.best_score_, grid_result.best_params_))\n",
        "means = grid_result.cv_results_['mean_test_score']\n",
        "stds = grid_result.cv_results_['std_test_score']\n",
        "params = grid_result.cv_results_['params']\n",
        "for mean, stdev, param in zip(means, stds, params):\n",
        "    print(\"%f (%f) with: %r\" % (mean, stdev, param))"
      ],
      "execution_count": null,
      "outputs": [
        {
          "output_type": "stream",
          "text": [
            "/usr/local/lib/python3.7/dist-packages/joblib/externals/loky/process_executor.py:691: UserWarning: A worker stopped while some jobs were given to the executor. This can be caused by a too short worker timeout or by a memory leak.\n",
            "  \"timeout or by a memory leak.\", UserWarning\n"
          ],
          "name": "stderr"
        },
        {
          "output_type": "stream",
          "text": [
            "Best: 0.985717 using {'batch_size': 40}\n",
            "0.983800 (0.000402) with: {'batch_size': 10}\n",
            "0.984200 (0.000960) with: {'batch_size': 20}\n",
            "0.985717 (0.000900) with: {'batch_size': 40}\n",
            "0.984650 (0.000402) with: {'batch_size': 60}\n",
            "0.984367 (0.001049) with: {'batch_size': 80}\n",
            "0.984267 (0.000749) with: {'batch_size': 100}\n"
          ],
          "name": "stdout"
        }
      ]
    },
    {
      "cell_type": "markdown",
      "metadata": {
        "id": "DlFkd7Iz6iWs"
      },
      "source": [
        "**Grid Search For Epochs**"
      ]
    },
    {
      "cell_type": "code",
      "metadata": {
        "colab": {
          "base_uri": "https://localhost:8080/"
        },
        "id": "6sNQxCTy5o3v",
        "outputId": "214d0d39-bca2-45a5-8e2a-dbb7c73e61be"
      },
      "source": [
        "epochs = [5, 10, 15, 20, 25]\n",
        "model = KerasClassifier(build_fn=create_model, batch_size=40, verbose=0)\n",
        "param_grid = dict(epochs = epochs)\n",
        "grid = GridSearchCV(estimator=model, param_grid=param_grid,n_jobs=-1, cv=3)\n",
        "grid_result = grid.fit(train_images, train_labels, validation_split=0.2)\n",
        "# summarize results\n",
        "print(\"Best: %f using %s\" % (grid_result.best_score_, grid_result.best_params_))\n",
        "means = grid_result.cv_results_['mean_test_score']\n",
        "stds = grid_result.cv_results_['std_test_score']\n",
        "params = grid_result.cv_results_['params']\n",
        "for mean, stdev, param in zip(means, stds, params):\n",
        "    print(\"%f (%f) with: %r\" % (mean, stdev, param))"
      ],
      "execution_count": null,
      "outputs": [
        {
          "output_type": "stream",
          "text": [
            "Best: 0.986083 using {'epochs': 10}\n",
            "0.985217 (0.001248) with: {'epochs': 5}\n",
            "0.986083 (0.001519) with: {'epochs': 10}\n"
          ],
          "name": "stdout"
        }
      ]
    },
    {
      "cell_type": "markdown",
      "metadata": {
        "id": "4hI7hVhM6m7O"
      },
      "source": [
        "**Final Model with Parameters from Grid Search**\n",
        "\n",
        "*   Activation = 'softmax'\n",
        "*   Optimizer = 'Adam'\n",
        "*   Batch_size = 40\n",
        "*   Epochs = 10 \n",
        "\n",
        "\n",
        "\n",
        "\n",
        "\n"
      ]
    },
    {
      "cell_type": "code",
      "metadata": {
        "colab": {
          "base_uri": "https://localhost:8080/"
        },
        "id": "BRz50yd54A-N",
        "outputId": "e5fdf71b-b1ae-46c1-d6fd-05b20bf2b45e"
      },
      "source": [
        "model = models.Sequential()\n",
        "model.add(layers.Conv2D(32, (3, 3), activation='softsign', input_shape=(28, 28, 1)))\n",
        "model.add(layers.MaxPooling2D((2, 2)))\n",
        "model.add(layers.Conv2D(64, (3, 3), activation='softsign'))\n",
        "model.add(layers.MaxPooling2D((2, 2)))\n",
        "model.add(layers.Conv2D(64, (3, 3), activation='softsign'))\n",
        "\n",
        "model.add(layers.Flatten())\n",
        "model.add(layers.Dense(64, activation='softsign'))\n",
        "model.add(layers.Dense(10, activation='softmax'))\n",
        "\n",
        "model.compile(optimizer='Adam', loss='categorical_crossentropy', metrics=['accuracy'])\n",
        "model.fit(train_images, train_labels, epochs=10, batch_size=40, validation_split=0.2)\n",
        "\n",
        "test_loss, test_acc = model.evaluate(test_images, test_labels)\n",
        "test_acc"
      ],
      "execution_count": null,
      "outputs": [
        {
          "output_type": "stream",
          "text": [
            "Epoch 1/10\n",
            "1200/1200 [==============================] - 5s 4ms/step - loss: 0.4240 - accuracy: 0.8837 - val_loss: 0.0683 - val_accuracy: 0.9800\n",
            "Epoch 2/10\n",
            "1200/1200 [==============================] - 4s 3ms/step - loss: 0.0615 - accuracy: 0.9817 - val_loss: 0.0505 - val_accuracy: 0.9850\n",
            "Epoch 3/10\n",
            "1200/1200 [==============================] - 4s 3ms/step - loss: 0.0355 - accuracy: 0.9894 - val_loss: 0.0443 - val_accuracy: 0.9875\n",
            "Epoch 4/10\n",
            "1200/1200 [==============================] - 4s 3ms/step - loss: 0.0308 - accuracy: 0.9908 - val_loss: 0.0458 - val_accuracy: 0.9872\n",
            "Epoch 5/10\n",
            "1200/1200 [==============================] - 4s 3ms/step - loss: 0.0209 - accuracy: 0.9938 - val_loss: 0.0450 - val_accuracy: 0.9868\n",
            "Epoch 6/10\n",
            "1200/1200 [==============================] - 4s 3ms/step - loss: 0.0177 - accuracy: 0.9947 - val_loss: 0.0465 - val_accuracy: 0.9868\n",
            "Epoch 7/10\n",
            "1200/1200 [==============================] - 4s 3ms/step - loss: 0.0145 - accuracy: 0.9955 - val_loss: 0.0461 - val_accuracy: 0.9870\n",
            "Epoch 8/10\n",
            "1200/1200 [==============================] - 4s 3ms/step - loss: 0.0132 - accuracy: 0.9960 - val_loss: 0.0463 - val_accuracy: 0.9873\n",
            "Epoch 9/10\n",
            "1200/1200 [==============================] - 4s 3ms/step - loss: 0.0102 - accuracy: 0.9967 - val_loss: 0.0509 - val_accuracy: 0.9871\n",
            "Epoch 10/10\n",
            "1200/1200 [==============================] - 4s 3ms/step - loss: 0.0089 - accuracy: 0.9973 - val_loss: 0.0439 - val_accuracy: 0.9876\n",
            "313/313 [==============================] - 1s 3ms/step - loss: 0.0326 - accuracy: 0.9900\n"
          ],
          "name": "stdout"
        },
        {
          "output_type": "execute_result",
          "data": {
            "text/plain": [
              "0.9900000095367432"
            ]
          },
          "metadata": {
            "tags": []
          },
          "execution_count": 81
        }
      ]
    },
    {
      "cell_type": "markdown",
      "metadata": {
        "id": "IwvqHp9n85aq"
      },
      "source": [
        "**Getting Accuracy on Test set = 0.99**"
      ]
    }
  ]
}