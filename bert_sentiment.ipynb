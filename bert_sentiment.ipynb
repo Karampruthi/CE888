{
  "nbformat": 4,
  "nbformat_minor": 0,
  "metadata": {
    "accelerator": "GPU",
    "colab": {
      "name": "bert_sentiment.ipynb",
      "provenance": [],
      "include_colab_link": true
    },
    "kernelspec": {
      "display_name": "Python 3",
      "language": "python",
      "name": "python3"
    },
    "language_info": {
      "codemirror_mode": {
        "name": "ipython",
        "version": 3
      },
      "file_extension": ".py",
      "mimetype": "text/x-python",
      "name": "python",
      "nbconvert_exporter": "python",
      "pygments_lexer": "ipython3",
      "version": "3.8.5"
    }
  },
  "cells": [
    {
      "cell_type": "markdown",
      "metadata": {
        "id": "view-in-github",
        "colab_type": "text"
      },
      "source": [
        "<a href=\"https://colab.research.google.com/github/Karampruthi/CE888-Data-Science-Decision-making/blob/main/bert_sentiment.ipynb\" target=\"_parent\"><img src=\"https://colab.research.google.com/assets/colab-badge.svg\" alt=\"Open In Colab\"/></a>"
      ]
    },
    {
      "cell_type": "code",
      "metadata": {
        "colab": {
          "base_uri": "https://localhost:8080/"
        },
        "id": "M8-DLs9Imajv",
        "outputId": "4cacd1db-a7e5-4e1b-cde8-8809ebd5fd07"
      },
      "source": [
        "import nltk\n",
        "import pandas as pd\n",
        "import numpy as np\n",
        "from nltk.stem.porter import PorterStemmer\n",
        "from nltk.tokenize import TweetTokenizer\n",
        "from nltk.tokenize import word_tokenize \n",
        "from nltk.corpus import stopwords\n",
        "import re\n",
        "from nltk.stem import WordNetLemmatizer\n",
        "stemmer = PorterStemmer()\n",
        "lemmatizer = WordNetLemmatizer()\n",
        "from textblob import TextBlob\n",
        "import requests\n",
        "from collections import Counter\n",
        "\n",
        "import warnings\n",
        "warnings.filterwarnings('ignore')\n",
        "\n",
        "import nltk\n",
        "nltk.download('stopwords')\n",
        "nltk.download('words')\n",
        "stop_words = stopwords.words('english')\n",
        "words = set(nltk.corpus.words.words())"
      ],
      "execution_count": 111,
      "outputs": [
        {
          "output_type": "stream",
          "text": [
            "[nltk_data] Downloading package stopwords to /root/nltk_data...\n",
            "[nltk_data]   Package stopwords is already up-to-date!\n",
            "[nltk_data] Downloading package words to /root/nltk_data...\n",
            "[nltk_data]   Package words is already up-to-date!\n"
          ],
          "name": "stdout"
        }
      ]
    },
    {
      "cell_type": "markdown",
      "metadata": {
        "id": "jMJAdTbTmajz"
      },
      "source": [
        "# Loading the Data"
      ]
    },
    {
      "cell_type": "code",
      "metadata": {
        "id": "fsMXh2RSmaj0"
      },
      "source": [
        "text = requests.get('https://raw.githubusercontent.com/cardiffnlp/tweeteval/main/datasets/sentiment/train_text.txt').text\n",
        "label = requests.get('https://raw.githubusercontent.com/cardiffnlp/tweeteval/main/datasets/sentiment/train_labels.txt').text\n",
        "val_text = requests.get('https://raw.githubusercontent.com/cardiffnlp/tweeteval/main/datasets/sentiment/val_text.txt').text\n",
        "val_label = requests.get('https://raw.githubusercontent.com/cardiffnlp/tweeteval/main/datasets/sentiment/val_labels.txt').text\n",
        "text_test = requests.get('https://raw.githubusercontent.com/cardiffnlp/tweeteval/main/datasets/sentiment/test_text.txt').text\n",
        "label_test = requests.get('https://raw.githubusercontent.com/cardiffnlp/tweeteval/main/datasets/sentiment/test_labels.txt').text"
      ],
      "execution_count": 112,
      "outputs": []
    },
    {
      "cell_type": "markdown",
      "metadata": {
        "id": "vpsH3DxFmaj1"
      },
      "source": [
        "# Text PreProcessing"
      ]
    },
    {
      "cell_type": "code",
      "metadata": {
        "id": "W3rw9tNUmaj1"
      },
      "source": [
        "def process(label,text):\n",
        "    \n",
        "    tag = []\n",
        "    for sent in label.split(\"\\n\"):\n",
        "        try:\n",
        "            tag.append(int(sent))\n",
        "        except ValueError:\n",
        "            pass\n",
        "\n",
        "    tweet = []\n",
        "    for text in text.split('\\n'):\n",
        "        try:\n",
        "            tweet.append(text)\n",
        "        except ValueError:\n",
        "            pass\n",
        "        \n",
        "    data = {'tweet':tweet[:-1],'tag':tag}\n",
        "    df = pd.DataFrame(data)\n",
        "    df['sentiment'] = df.tag.apply(lambda x:'Positive' if x==2 else 'Negative' if x==0 else 'Neutral')\n",
        "    return df"
      ],
      "execution_count": 113,
      "outputs": []
    },
    {
      "cell_type": "code",
      "metadata": {
        "id": "u2VModePmaj1"
      },
      "source": [
        "df = process(label,text)\n",
        "df_val = process(val_label,val_text)\n",
        "df_test = process(label_test,text_test)"
      ],
      "execution_count": 114,
      "outputs": []
    },
    {
      "cell_type": "code",
      "metadata": {
        "colab": {
          "base_uri": "https://localhost:8080/",
          "height": 419
        },
        "id": "3C0UrcVDmaj2",
        "outputId": "56cf4c05-cf51-458f-bbfc-6f90bc999724"
      },
      "source": [
        "df"
      ],
      "execution_count": 115,
      "outputs": [
        {
          "output_type": "execute_result",
          "data": {
            "text/html": [
              "<div>\n",
              "<style scoped>\n",
              "    .dataframe tbody tr th:only-of-type {\n",
              "        vertical-align: middle;\n",
              "    }\n",
              "\n",
              "    .dataframe tbody tr th {\n",
              "        vertical-align: top;\n",
              "    }\n",
              "\n",
              "    .dataframe thead th {\n",
              "        text-align: right;\n",
              "    }\n",
              "</style>\n",
              "<table border=\"1\" class=\"dataframe\">\n",
              "  <thead>\n",
              "    <tr style=\"text-align: right;\">\n",
              "      <th></th>\n",
              "      <th>tweet</th>\n",
              "      <th>tag</th>\n",
              "      <th>sentiment</th>\n",
              "    </tr>\n",
              "  </thead>\n",
              "  <tbody>\n",
              "    <tr>\n",
              "      <th>0</th>\n",
              "      <td>\"QT @user In the original draft of the 7th boo...</td>\n",
              "      <td>2</td>\n",
              "      <td>Positive</td>\n",
              "    </tr>\n",
              "    <tr>\n",
              "      <th>1</th>\n",
              "      <td>\"Ben Smith / Smith (concussion) remains out of...</td>\n",
              "      <td>1</td>\n",
              "      <td>Neutral</td>\n",
              "    </tr>\n",
              "    <tr>\n",
              "      <th>2</th>\n",
              "      <td>Sorry bout the stream last night I crashed out...</td>\n",
              "      <td>1</td>\n",
              "      <td>Neutral</td>\n",
              "    </tr>\n",
              "    <tr>\n",
              "      <th>3</th>\n",
              "      <td>Chase Headley's RBI double in the 8th inning o...</td>\n",
              "      <td>1</td>\n",
              "      <td>Neutral</td>\n",
              "    </tr>\n",
              "    <tr>\n",
              "      <th>4</th>\n",
              "      <td>@user Alciato: Bee will invest 150 million in ...</td>\n",
              "      <td>2</td>\n",
              "      <td>Positive</td>\n",
              "    </tr>\n",
              "    <tr>\n",
              "      <th>...</th>\n",
              "      <td>...</td>\n",
              "      <td>...</td>\n",
              "      <td>...</td>\n",
              "    </tr>\n",
              "    <tr>\n",
              "      <th>45610</th>\n",
              "      <td>@user \\\"\"So amazing to have the beautiful Lady...</td>\n",
              "      <td>2</td>\n",
              "      <td>Positive</td>\n",
              "    </tr>\n",
              "    <tr>\n",
              "      <th>45611</th>\n",
              "      <td>9 September has arrived, which means Apple's n...</td>\n",
              "      <td>2</td>\n",
              "      <td>Positive</td>\n",
              "    </tr>\n",
              "    <tr>\n",
              "      <th>45612</th>\n",
              "      <td>Leeds 1-1 Sheff Wed. Giuseppe Bellusci securin...</td>\n",
              "      <td>2</td>\n",
              "      <td>Positive</td>\n",
              "    </tr>\n",
              "    <tr>\n",
              "      <th>45613</th>\n",
              "      <td>@user no I'm in hilton head till the 8th lol g...</td>\n",
              "      <td>1</td>\n",
              "      <td>Neutral</td>\n",
              "    </tr>\n",
              "    <tr>\n",
              "      <th>45614</th>\n",
              "      <td>WASHINGTON (Reuters) - U.S. Vice President Joe...</td>\n",
              "      <td>1</td>\n",
              "      <td>Neutral</td>\n",
              "    </tr>\n",
              "  </tbody>\n",
              "</table>\n",
              "<p>45615 rows × 3 columns</p>\n",
              "</div>"
            ],
            "text/plain": [
              "                                                   tweet  tag sentiment\n",
              "0      \"QT @user In the original draft of the 7th boo...    2  Positive\n",
              "1      \"Ben Smith / Smith (concussion) remains out of...    1   Neutral\n",
              "2      Sorry bout the stream last night I crashed out...    1   Neutral\n",
              "3      Chase Headley's RBI double in the 8th inning o...    1   Neutral\n",
              "4      @user Alciato: Bee will invest 150 million in ...    2  Positive\n",
              "...                                                  ...  ...       ...\n",
              "45610  @user \\\"\"So amazing to have the beautiful Lady...    2  Positive\n",
              "45611  9 September has arrived, which means Apple's n...    2  Positive\n",
              "45612  Leeds 1-1 Sheff Wed. Giuseppe Bellusci securin...    2  Positive\n",
              "45613  @user no I'm in hilton head till the 8th lol g...    1   Neutral\n",
              "45614  WASHINGTON (Reuters) - U.S. Vice President Joe...    1   Neutral\n",
              "\n",
              "[45615 rows x 3 columns]"
            ]
          },
          "metadata": {
            "tags": []
          },
          "execution_count": 115
        }
      ]
    },
    {
      "cell_type": "markdown",
      "metadata": {
        "id": "_7C7bKfomaj3"
      },
      "source": [
        "## Text Cleaning"
      ]
    },
    {
      "cell_type": "code",
      "metadata": {
        "id": "tv5Xb1kjmaj3"
      },
      "source": [
        "def cleaner(tweet):\n",
        "    \n",
        "    tweet = re.sub(r\"(@[A-Za-z0-9]+)|([^0-9A-Za-z \\t])|(\\w+:\\/\\/\\S+)|^rt|http.+?\", \"\", tweet)\n",
        "    tweet = tweet.lower()   \n",
        "    # tweet = re.sub(r'\\d+','', tweet) \n",
        "    # tweet = tweet.split()\n",
        "    # tweet = \" \".join([word for word in tweet if not word in stop_words])\n",
        "    # tweet = \" \".join([stemmer.stem(word) for word in tweet])\n",
        "\n",
        "    # tweet = tweet.split()\n",
        "    # tweet = \" \".join(w for w in tweet if w in words or not w.isalpha())\n",
        "    tweet = tweet.replace(\"user\", \"\")\n",
        "\n",
        "    return  tweet"
      ],
      "execution_count": 116,
      "outputs": []
    },
    {
      "cell_type": "code",
      "metadata": {
        "id": "fT77qBfQmaj4"
      },
      "source": [
        "def cleanup(df):\n",
        "   \n",
        "    train_cleaned = df['tweet'].apply(cleaner)\n",
        "    df['tweet'] = train_cleaned.apply(lambda x: ' '.join([w for w in x.split() if len(w)>2]))\n",
        "  \n",
        "    return df    "
      ],
      "execution_count": 117,
      "outputs": []
    },
    {
      "cell_type": "code",
      "metadata": {
        "id": "1aWZahQsmaj4"
      },
      "source": [
        "train_cleaned = cleanup(df)\n",
        "val_cleaned = cleanup(df_val)\n",
        "test_cleaned = cleanup(df_test)\n",
        "\n",
        "lst = [train_cleaned, val_cleaned]\n",
        "train_cleaned = pd.DataFrame(np.concatenate(lst),columns=val_cleaned.columns)"
      ],
      "execution_count": 118,
      "outputs": []
    },
    {
      "cell_type": "code",
      "metadata": {
        "colab": {
          "base_uri": "https://localhost:8080/",
          "height": 35
        },
        "id": "vUihvRaAmaj4",
        "scrolled": false,
        "outputId": "4f317226-9c39-4430-d0e7-c5774557bd5e"
      },
      "source": [
        "train_cleaned.tweet[0]"
      ],
      "execution_count": 119,
      "outputs": [
        {
          "output_type": "execute_result",
          "data": {
            "application/vnd.google.colaboratory.intrinsic+json": {
              "type": "string"
            },
            "text/plain": [
              "'the original draft the 7th book remus lupin survived the battle hogwarts happybirthdayremuslupin'"
            ]
          },
          "metadata": {
            "tags": []
          },
          "execution_count": 119
        }
      ]
    },
    {
      "cell_type": "code",
      "metadata": {
        "colab": {
          "base_uri": "https://localhost:8080/"
        },
        "id": "532Fb4tz3BMX",
        "outputId": "b38844ea-a4bf-4bcf-e2ab-fe7ba6ac4438"
      },
      "source": [
        "import torch\n",
        "\n",
        "if torch.cuda.is_available():       \n",
        "    device = torch.device(\"cuda\")\n",
        "    print(f'There are {torch.cuda.device_count()} GPU(s) available.')\n",
        "    print('Device name:', torch.cuda.get_device_name(0))\n",
        "\n",
        "else:\n",
        "    print('No GPU available, using the CPU instead.')\n",
        "    device = torch.device(\"cpu\")"
      ],
      "execution_count": 120,
      "outputs": [
        {
          "output_type": "stream",
          "text": [
            "There are 1 GPU(s) available.\n",
            "Device name: Tesla V100-SXM2-16GB\n"
          ],
          "name": "stdout"
        }
      ]
    },
    {
      "cell_type": "code",
      "metadata": {
        "colab": {
          "base_uri": "https://localhost:8080/"
        },
        "id": "jnCGjAN1nhcg",
        "outputId": "29a28eaa-6b3b-4dbe-c7a2-cf972cca5f2b"
      },
      "source": [
        "pip install transformers"
      ],
      "execution_count": 121,
      "outputs": [
        {
          "output_type": "stream",
          "text": [
            "Requirement already satisfied: transformers in /usr/local/lib/python3.7/dist-packages (4.5.1)\n",
            "Requirement already satisfied: packaging in /usr/local/lib/python3.7/dist-packages (from transformers) (20.9)\n",
            "Requirement already satisfied: numpy>=1.17 in /usr/local/lib/python3.7/dist-packages (from transformers) (1.19.5)\n",
            "Requirement already satisfied: tqdm>=4.27 in /usr/local/lib/python3.7/dist-packages (from transformers) (4.41.1)\n",
            "Requirement already satisfied: regex!=2019.12.17 in /usr/local/lib/python3.7/dist-packages (from transformers) (2019.12.20)\n",
            "Requirement already satisfied: filelock in /usr/local/lib/python3.7/dist-packages (from transformers) (3.0.12)\n",
            "Requirement already satisfied: sacremoses in /usr/local/lib/python3.7/dist-packages (from transformers) (0.0.45)\n",
            "Requirement already satisfied: tokenizers<0.11,>=0.10.1 in /usr/local/lib/python3.7/dist-packages (from transformers) (0.10.2)\n",
            "Requirement already satisfied: importlib-metadata; python_version < \"3.8\" in /usr/local/lib/python3.7/dist-packages (from transformers) (3.10.1)\n",
            "Requirement already satisfied: requests in /usr/local/lib/python3.7/dist-packages (from transformers) (2.23.0)\n",
            "Requirement already satisfied: pyparsing>=2.0.2 in /usr/local/lib/python3.7/dist-packages (from packaging->transformers) (2.4.7)\n",
            "Requirement already satisfied: click in /usr/local/lib/python3.7/dist-packages (from sacremoses->transformers) (7.1.2)\n",
            "Requirement already satisfied: six in /usr/local/lib/python3.7/dist-packages (from sacremoses->transformers) (1.15.0)\n",
            "Requirement already satisfied: joblib in /usr/local/lib/python3.7/dist-packages (from sacremoses->transformers) (1.0.1)\n",
            "Requirement already satisfied: zipp>=0.5 in /usr/local/lib/python3.7/dist-packages (from importlib-metadata; python_version < \"3.8\"->transformers) (3.4.1)\n",
            "Requirement already satisfied: typing-extensions>=3.6.4; python_version < \"3.8\" in /usr/local/lib/python3.7/dist-packages (from importlib-metadata; python_version < \"3.8\"->transformers) (3.7.4.3)\n",
            "Requirement already satisfied: chardet<4,>=3.0.2 in /usr/local/lib/python3.7/dist-packages (from requests->transformers) (3.0.4)\n",
            "Requirement already satisfied: idna<3,>=2.5 in /usr/local/lib/python3.7/dist-packages (from requests->transformers) (2.10)\n",
            "Requirement already satisfied: urllib3!=1.25.0,!=1.25.1,<1.26,>=1.21.1 in /usr/local/lib/python3.7/dist-packages (from requests->transformers) (1.24.3)\n",
            "Requirement already satisfied: certifi>=2017.4.17 in /usr/local/lib/python3.7/dist-packages (from requests->transformers) (2020.12.5)\n"
          ],
          "name": "stdout"
        }
      ]
    },
    {
      "cell_type": "code",
      "metadata": {
        "id": "o5s0hfOfmakI"
      },
      "source": [
        "from transformers import BertTokenizer, AutoModel, AutoTokenizer\n",
        "\n",
        "# Load the BERT tokenizer\n",
        "tokenizer = BertTokenizer.from_pretrained('bert-base-uncased')\n",
        "\n",
        "\n",
        "# Create a function to tokenize a set of texts\n",
        "def preprocessing(data,length):\n",
        "  \n",
        "    input_ids = []\n",
        "    attention_masks = []\n",
        "\n",
        "    for sentence in data:\n",
        "   \n",
        "        encoded_sent = tokenizer.encode_plus(\n",
        "            text=sentence,  \n",
        "            add_special_tokens=True,        \n",
        "            max_length=length,              \n",
        "            pad_to_max_length=True,                  \n",
        "            return_attention_mask=True      \n",
        "            )\n",
        "        input_ids.append(encoded_sent.get('input_ids'))\n",
        "        attention_masks.append(encoded_sent.get('attention_mask'))\n",
        "\n",
        "    input_ids = torch.tensor(input_ids)\n",
        "    attention_masks = torch.tensor(attention_masks)\n",
        "\n",
        "    return input_ids, attention_masks"
      ],
      "execution_count": 122,
      "outputs": []
    },
    {
      "cell_type": "code",
      "metadata": {
        "colab": {
          "base_uri": "https://localhost:8080/"
        },
        "id": "rbVE6ZFnmakJ",
        "outputId": "9f24a1d9-e0e2-4d39-99b6-40af91ca0f05"
      },
      "source": [
        "tweets = np.concatenate([train_cleaned.tweet.values, test_cleaned.tweet.values])\n",
        "tweets_encoded = [tokenizer.encode(sent, add_special_tokens=True, truncation =True) for sent in tweets]\n",
        "max_length = max([len(sent) for sent in tweets_encoded])\n",
        "print('Max length: ', max_length)"
      ],
      "execution_count": 123,
      "outputs": [
        {
          "output_type": "stream",
          "text": [
            "Max length:  80\n"
          ],
          "name": "stdout"
        }
      ]
    },
    {
      "cell_type": "code",
      "metadata": {
        "colab": {
          "base_uri": "https://localhost:8080/"
        },
        "id": "g7CfVVXrmakJ",
        "scrolled": true,
        "outputId": "6c765fac-0a18-40bb-d20f-98ae99625a0d"
      },
      "source": [
        "data = [train_cleaned.tweet[0]]\n",
        "token_ids = list(preprocessing(data,max_length)[0].squeeze().numpy())\n",
        "print('Original: ', train_cleaned.tweet[0])\n",
        "print('Token IDs: ', token_ids)"
      ],
      "execution_count": 124,
      "outputs": [
        {
          "output_type": "stream",
          "text": [
            "Truncation was not explicitly activated but `max_length` is provided a specific value, please use `truncation=True` to explicitly truncate examples to max length. Defaulting to 'longest_first' truncation strategy. If you encode pairs of sequences (GLUE-style) with the tokenizer you can select this strategy more precisely by providing a specific strategy to `truncation`.\n"
          ],
          "name": "stderr"
        },
        {
          "output_type": "stream",
          "text": [
            "Original:  the original draft the 7th book remus lupin survived the battle hogwarts happybirthdayremuslupin\n",
            "Token IDs:  [101, 1996, 2434, 4433, 1996, 5504, 2338, 2128, 7606, 11320, 8091, 5175, 1996, 2645, 27589, 18367, 2015, 3407, 17706, 2705, 10259, 28578, 2271, 7630, 8091, 102, 0, 0, 0, 0, 0, 0, 0, 0, 0, 0, 0, 0, 0, 0, 0, 0, 0, 0, 0, 0, 0, 0, 0, 0, 0, 0, 0, 0, 0, 0, 0, 0, 0, 0, 0, 0, 0, 0, 0, 0, 0, 0, 0, 0, 0, 0, 0, 0, 0, 0, 0, 0, 0, 0]\n"
          ],
          "name": "stdout"
        }
      ]
    },
    {
      "cell_type": "code",
      "metadata": {
        "colab": {
          "base_uri": "https://localhost:8080/"
        },
        "id": "YrrJLU4GmakK",
        "outputId": "26590bc6-a6c6-4c15-9838-936c2e6fc2d7"
      },
      "source": [
        "%%time\n",
        "train_inputs, train_masks = preprocessing(train_cleaned.tweet.values,max_length)\n",
        "val_inputs, val_masks = preprocessing(test_cleaned.tweet.values,max_length)"
      ],
      "execution_count": 125,
      "outputs": [
        {
          "output_type": "stream",
          "text": [
            "CPU times: user 30 s, sys: 123 ms, total: 30.1 s\n",
            "Wall time: 30.1 s\n"
          ],
          "name": "stdout"
        }
      ]
    },
    {
      "cell_type": "code",
      "metadata": {
        "id": "tIJ0vr44makL"
      },
      "source": [
        "from torch.utils.data import TensorDataset, DataLoader, RandomSampler, SequentialSampler\n",
        "\n",
        "train_labels = torch.tensor(train_cleaned['tag'])\n",
        "val_labels = torch.tensor(test_cleaned['tag'])\n",
        "\n",
        "batch_size = 16\n",
        "\n",
        "train_data = TensorDataset(train_inputs, train_masks, train_labels)\n",
        "train_sampler = RandomSampler(train_data)\n",
        "train_dataloader = DataLoader(train_data, sampler=train_sampler, batch_size=batch_size)\n",
        "\n",
        "val_data = TensorDataset(val_inputs, val_masks, val_labels)\n",
        "val_sampler = SequentialSampler(val_data)\n",
        "val_dataloader = DataLoader(val_data, sampler=val_sampler, batch_size=batch_size)"
      ],
      "execution_count": 155,
      "outputs": []
    },
    {
      "cell_type": "code",
      "metadata": {
        "colab": {
          "base_uri": "https://localhost:8080/"
        },
        "id": "7kDruNw2makM",
        "outputId": "30ceaa3d-2788-4586-cba6-08896b46145a"
      },
      "source": [
        "%%time\n",
        "\n",
        "import torch.nn as nn\n",
        "from transformers import BertModel\n",
        "\n",
        "class BertClassifier(nn.Module):\n",
        "\n",
        "    def __init__(self, freeze_bert=False):\n",
        "\n",
        "        super(BertClassifier, self).__init__()\n",
        "        inlet, outlet, b_out  = 768, 50, 3\n",
        "\n",
        "        self.bert =  BertModel.from_pretrained('bert-base-uncased')\n",
        "\n",
        "        self.classifier = nn.Sequential(\n",
        "            # nn.Dropout(0.15),\n",
        "            nn.Linear(inlet, outlet),\n",
        "            nn.ReLU(),\n",
        "            nn.Linear(outlet, b_out)\n",
        "        )\n",
        "\n",
        "        if freeze_bert:\n",
        "            for param in self.bert.parameters():\n",
        "                param.requires_grad = True\n",
        "        \n",
        "    def forward(self, input_ids, attention_mask):\n",
        "\n",
        "        outputs = self.bert(input_ids=input_ids,\n",
        "                            attention_mask=attention_mask)\n",
        "        \n",
        "        last_hidden_state_cls = outputs[0][:, 0, :]\n",
        "\n",
        "        logits = self.classifier(last_hidden_state_cls)\n",
        "    \n",
        "        return logits"
      ],
      "execution_count": 162,
      "outputs": [
        {
          "output_type": "stream",
          "text": [
            "CPU times: user 26 µs, sys: 15 µs, total: 41 µs\n",
            "Wall time: 43.4 µs\n"
          ],
          "name": "stdout"
        }
      ]
    },
    {
      "cell_type": "code",
      "metadata": {
        "id": "pyJljzrMmakN"
      },
      "source": [
        "from transformers import AdamW, get_linear_schedule_with_warmup\n",
        "\n",
        "def initialize_model(epochs=4):\n",
        "\n",
        "    bert_classifier = BertClassifier()\n",
        "\n",
        "    bert_classifier.to(device)\n",
        "\n",
        "    optimizer = AdamW(bert_classifier.parameters(),\n",
        "                      lr=1e-5,    \n",
        "                      eps=1e-8   \n",
        "                      )\n",
        "\n",
        "    total_steps = len(train_dataloader) * epochs\n",
        "\n",
        "    scheduler = get_linear_schedule_with_warmup(optimizer,\n",
        "                                                num_warmup_steps=0, \n",
        "                                                num_training_steps=total_steps)\n",
        "    return bert_classifier, optimizer, scheduler"
      ],
      "execution_count": 163,
      "outputs": []
    },
    {
      "cell_type": "code",
      "metadata": {
        "id": "dljM7g6nmakN"
      },
      "source": [
        "import random\n",
        "import time\n",
        "\n",
        "loss_fn = nn.CrossEntropyLoss()\n",
        "\n",
        "def set_seed(seed_value=42):\n",
        "\n",
        "    random.seed(seed_value)\n",
        "    np.random.seed(seed_value)\n",
        "    torch.manual_seed(seed_value)\n",
        "    torch.cuda.manual_seed_all(seed_value)\n",
        "\n",
        "def train(model, train_dataloader, val_dataloader=None, epochs=4, evaluation=False):\n",
        "\n",
        "    torch.cuda.empty_cache()\n",
        "    print(\"Start training...\\n\")\n",
        "    for epoch_i in range(epochs):\n",
        "        # =======================================\n",
        "        #               Training\n",
        "        # =======================================\n",
        "        # Print the header of the result table\n",
        "        print(f\"{'Epoch':^7} | {'Batch':^7} | {'Train Loss':^12} | {'Val Loss':^10} | {'Val Acc':^9} | {'Elapsed':^9}\")\n",
        "        print(\"-\"*70)\n",
        "\n",
        "        # Measure the elapsed time of each epoch\n",
        "        t0_epoch, t0_batch = time.time(), time.time()\n",
        "\n",
        "        # Reset tracking variables at the beginning of each epoch\n",
        "        total_loss, batch_loss, batch_counts = 0, 0, 0\n",
        "\n",
        "        # Put the model into the training mode\n",
        "        model.train()\n",
        "\n",
        "        # For each batch of training data...\n",
        "        for step, batch in enumerate(train_dataloader):\n",
        "            batch_counts +=1\n",
        "            # Load batch to GPU\n",
        "            b_input_ids, b_attn_mask, b_labels = tuple(t.to(device) for t in batch)\n",
        "\n",
        "            # Zero out any previously calculated gradients\n",
        "            model.zero_grad()\n",
        "\n",
        "            # Perform a forward pass. This will return logits.\n",
        "            logits = model(b_input_ids, b_attn_mask)\n",
        "\n",
        "            # Compute loss and accumulate the loss values\n",
        "            loss = loss_fn(logits, b_labels)\n",
        "            batch_loss += loss.item()\n",
        "            total_loss += loss.item()\n",
        "\n",
        "            # Perform a backward pass to calculate gradients\n",
        "            loss.backward()\n",
        "\n",
        "            # Clip the norm of the gradients to 1.0 to prevent \"exploding gradients\"\n",
        "            torch.nn.utils.clip_grad_norm_(model.parameters(), 1.0)\n",
        "\n",
        "            # Update parameters and the learning rate\n",
        "            optimizer.step()\n",
        "            scheduler.step()\n",
        "\n",
        "            # Print the loss values and time elapsed for every 20 batches\n",
        "            if (step % 20 == 0 and step != 0) or (step == len(train_dataloader) - 1):\n",
        "                # Calculate time elapsed for 20 batches\n",
        "                time_elapsed = time.time() - t0_batch\n",
        "\n",
        "                # Print training results\n",
        "                print(f\"{epoch_i + 1:^7} | {step:^7} | {batch_loss / batch_counts:^12.6f} | {'-':^10} | {'-':^9} | {time_elapsed:^9.2f}\")\n",
        "\n",
        "                # Reset batch tracking variables\n",
        "                batch_loss, batch_counts = 0, 0\n",
        "                t0_batch = time.time()\n",
        "\n",
        "        # Calculate the average loss over the entire training data\n",
        "        avg_train_loss = total_loss / len(train_dataloader)\n",
        "\n",
        "        print(\"-\"*70)\n",
        "        # =======================================\n",
        "        #               Evaluation\n",
        "        # =======================================\n",
        "        if evaluation == True:\n",
        "            # After the completion of each training epoch, measure the model's performance\n",
        "            # on our validation set.\n",
        "            val_loss, val_accuracy = evaluate(model, val_dataloader)\n",
        "\n",
        "            # Print performance over the entire training data\n",
        "            time_elapsed = time.time() - t0_epoch\n",
        "            \n",
        "            print(f\"{epoch_i + 1:^7} | {'-':^7} | {avg_train_loss:^12.6f} | {val_loss:^10.6f} | {val_accuracy:^9.2f} | {time_elapsed:^9.2f}\")\n",
        "            print(\"-\"*70)\n",
        "        print(\"\\n\")\n",
        "    \n",
        "    print(\"Training complete!\")\n",
        "\n",
        "\n",
        "def evaluate(model, val_dataloader):\n",
        "    \"\"\"After the completion of each training epoch, measure the model's performance\n",
        "    on our validation set.\n",
        "    \"\"\"\n",
        "    # Put the model into the evaluation mode. The dropout layers are disabled during\n",
        "    # the test time.\n",
        "    model.eval()\n",
        "\n",
        "    # Tracking variables\n",
        "    val_accuracy = []\n",
        "    val_loss = []\n",
        "\n",
        "    # For each batch in our validation set...\n",
        "    for batch in val_dataloader:\n",
        "        # Load batch to GPU\n",
        "        b_input_ids, b_attn_mask, b_labels = tuple(t.to(device) for t in batch)\n",
        "\n",
        "        # Compute logits\n",
        "        with torch.no_grad():\n",
        "            logits = model(b_input_ids, b_attn_mask)\n",
        "\n",
        "        # Compute loss\n",
        "        loss = loss_fn(logits, b_labels)\n",
        "        val_loss.append(loss.item())\n",
        "\n",
        "        # Get the predictions\n",
        "        preds = torch.argmax(logits, dim=1).flatten()\n",
        "\n",
        "        # Calculate the accuracy rate\n",
        "        accuracy = (preds == b_labels).cpu().numpy().mean() * 100\n",
        "        val_accuracy.append(accuracy)\n",
        "\n",
        "    # Compute the average accuracy and loss over the validation set.\n",
        "    val_loss = np.mean(val_loss)\n",
        "    val_accuracy = np.mean(val_accuracy)\n",
        "\n",
        "    return val_loss, val_accuracy"
      ],
      "execution_count": 164,
      "outputs": []
    },
    {
      "cell_type": "code",
      "metadata": {
        "id": "hBaHrq4WoeV6"
      },
      "source": [
        "def print_model_params(model):\n",
        "  params = list(model.named_parameters())\n",
        "  print('The BERT model has {:} different named parameters.\\n'.format(len(params)))\n",
        "  print('==== Embedding Layer ====\\n')\n",
        "  for p in params[0:5]:\n",
        "      print(\"{:<55} {:>12}\".format(p[0], str(tuple(p[1].size()))))\n",
        "  print('\\n==== First Transformer ====\\n')\n",
        "  for p in params[5::]:\n",
        "      print(\"{:<55} {:>12}\".format(p[0], str(tuple(p[1].size()))))\n",
        "  print('\\n==== Output Layer ====\\n')\n",
        "  for p in params[-4:]:\n",
        "      print(\"{:<55} {:>12}\".format(p[0], str(tuple(p[1].size()))))"
      ],
      "execution_count": 165,
      "outputs": []
    },
    {
      "cell_type": "code",
      "metadata": {
        "id": "Aur5tG9koqbL"
      },
      "source": [
        "# print_model_params(bert_classifier)"
      ],
      "execution_count": 166,
      "outputs": []
    },
    {
      "cell_type": "code",
      "metadata": {
        "colab": {
          "base_uri": "https://localhost:8080/"
        },
        "id": "VO10-iXWmakO",
        "scrolled": true,
        "outputId": "89232c53-7b0d-4955-ebd9-267c5bbbbd8c"
      },
      "source": [
        "set_seed(45)    # Set seed for reproducibility\n",
        "bert_classifier, optimizer, scheduler = initialize_model(epochs=4)\n",
        "train(bert_classifier, train_dataloader, val_dataloader, epochs=1, evaluation=True)"
      ],
      "execution_count": 167,
      "outputs": [
        {
          "output_type": "stream",
          "text": [
            "Start training...\n",
            "\n",
            " Epoch  |  Batch  |  Train Loss  |  Val Loss  |  Val Acc  |  Elapsed \n",
            "----------------------------------------------------------------------\n",
            "   1    |   20    |   1.072876   |     -      |     -     |   1.98   \n",
            "   1    |   40    |   0.990462   |     -      |     -     |   1.88   \n",
            "   1    |   60    |   0.963487   |     -      |     -     |   1.88   \n",
            "   1    |   80    |   0.989699   |     -      |     -     |   1.90   \n",
            "   1    |   100   |   0.929597   |     -      |     -     |   1.89   \n",
            "   1    |   120   |   0.922335   |     -      |     -     |   1.88   \n",
            "   1    |   140   |   0.882809   |     -      |     -     |   1.87   \n",
            "   1    |   160   |   0.856717   |     -      |     -     |   1.91   \n",
            "   1    |   180   |   0.859727   |     -      |     -     |   1.87   \n",
            "   1    |   200   |   0.863073   |     -      |     -     |   1.86   \n",
            "   1    |   220   |   0.748005   |     -      |     -     |   1.87   \n",
            "   1    |   240   |   0.803171   |     -      |     -     |   1.88   \n",
            "   1    |   260   |   0.810324   |     -      |     -     |   1.86   \n",
            "   1    |   280   |   0.798133   |     -      |     -     |   1.86   \n",
            "   1    |   300   |   0.820420   |     -      |     -     |   1.88   \n",
            "   1    |   320   |   0.754679   |     -      |     -     |   1.88   \n",
            "   1    |   340   |   0.781071   |     -      |     -     |   1.86   \n",
            "   1    |   360   |   0.766187   |     -      |     -     |   1.88   \n",
            "   1    |   380   |   0.765163   |     -      |     -     |   1.87   \n",
            "   1    |   400   |   0.706952   |     -      |     -     |   1.88   \n",
            "   1    |   420   |   0.731431   |     -      |     -     |   1.87   \n",
            "   1    |   440   |   0.749388   |     -      |     -     |   1.86   \n",
            "   1    |   460   |   0.680809   |     -      |     -     |   1.86   \n",
            "   1    |   480   |   0.675123   |     -      |     -     |   1.88   \n",
            "   1    |   500   |   0.796699   |     -      |     -     |   1.87   \n",
            "   1    |   520   |   0.711533   |     -      |     -     |   1.86   \n",
            "   1    |   540   |   0.752895   |     -      |     -     |   1.87   \n",
            "   1    |   560   |   0.762147   |     -      |     -     |   1.87   \n",
            "   1    |   580   |   0.763836   |     -      |     -     |   1.88   \n",
            "   1    |   600   |   0.746496   |     -      |     -     |   1.88   \n",
            "   1    |   620   |   0.728551   |     -      |     -     |   1.86   \n",
            "   1    |   640   |   0.718903   |     -      |     -     |   1.85   \n",
            "   1    |   660   |   0.751318   |     -      |     -     |   1.86   \n",
            "   1    |   680   |   0.698445   |     -      |     -     |   1.87   \n",
            "   1    |   700   |   0.695383   |     -      |     -     |   1.88   \n",
            "   1    |   720   |   0.749451   |     -      |     -     |   1.87   \n",
            "   1    |   740   |   0.675110   |     -      |     -     |   1.86   \n",
            "   1    |   760   |   0.707179   |     -      |     -     |   1.86   \n",
            "   1    |   780   |   0.738809   |     -      |     -     |   1.87   \n",
            "   1    |   800   |   0.766416   |     -      |     -     |   1.87   \n",
            "   1    |   820   |   0.731413   |     -      |     -     |   1.86   \n",
            "   1    |   840   |   0.690699   |     -      |     -     |   1.87   \n",
            "   1    |   860   |   0.702861   |     -      |     -     |   1.86   \n",
            "   1    |   880   |   0.687077   |     -      |     -     |   1.87   \n",
            "   1    |   900   |   0.725139   |     -      |     -     |   1.87   \n",
            "   1    |   920   |   0.685282   |     -      |     -     |   1.87   \n",
            "   1    |   940   |   0.775785   |     -      |     -     |   1.86   \n",
            "   1    |   960   |   0.766372   |     -      |     -     |   1.87   \n",
            "   1    |   980   |   0.791619   |     -      |     -     |   1.86   \n",
            "   1    |  1000   |   0.754662   |     -      |     -     |   1.87   \n",
            "   1    |  1020   |   0.700824   |     -      |     -     |   1.88   \n",
            "   1    |  1040   |   0.710099   |     -      |     -     |   1.92   \n",
            "   1    |  1060   |   0.664769   |     -      |     -     |   1.87   \n",
            "   1    |  1080   |   0.730973   |     -      |     -     |   1.88   \n",
            "   1    |  1100   |   0.747025   |     -      |     -     |   1.87   \n",
            "   1    |  1120   |   0.699116   |     -      |     -     |   1.89   \n",
            "   1    |  1140   |   0.719268   |     -      |     -     |   1.88   \n",
            "   1    |  1160   |   0.710837   |     -      |     -     |   1.88   \n",
            "   1    |  1180   |   0.695503   |     -      |     -     |   1.87   \n",
            "   1    |  1200   |   0.675647   |     -      |     -     |   1.88   \n",
            "   1    |  1220   |   0.699252   |     -      |     -     |   1.86   \n",
            "   1    |  1240   |   0.666197   |     -      |     -     |   1.87   \n",
            "   1    |  1260   |   0.711734   |     -      |     -     |   1.87   \n",
            "   1    |  1280   |   0.681971   |     -      |     -     |   1.86   \n",
            "   1    |  1300   |   0.626316   |     -      |     -     |   1.86   \n",
            "   1    |  1320   |   0.647865   |     -      |     -     |   1.86   \n",
            "   1    |  1340   |   0.708112   |     -      |     -     |   1.87   \n",
            "   1    |  1360   |   0.659248   |     -      |     -     |   1.87   \n",
            "   1    |  1380   |   0.688212   |     -      |     -     |   1.87   \n",
            "   1    |  1400   |   0.705777   |     -      |     -     |   1.87   \n",
            "   1    |  1420   |   0.691540   |     -      |     -     |   1.88   \n",
            "   1    |  1440   |   0.710336   |     -      |     -     |   1.86   \n",
            "   1    |  1460   |   0.636086   |     -      |     -     |   1.90   \n",
            "   1    |  1480   |   0.674594   |     -      |     -     |   1.88   \n",
            "   1    |  1500   |   0.706943   |     -      |     -     |   1.86   \n",
            "   1    |  1520   |   0.692282   |     -      |     -     |   1.87   \n",
            "   1    |  1540   |   0.646607   |     -      |     -     |   1.87   \n",
            "   1    |  1560   |   0.604357   |     -      |     -     |   1.86   \n",
            "   1    |  1580   |   0.610840   |     -      |     -     |   1.87   \n",
            "   1    |  1600   |   0.678562   |     -      |     -     |   1.86   \n",
            "   1    |  1620   |   0.734073   |     -      |     -     |   1.88   \n",
            "   1    |  1640   |   0.696540   |     -      |     -     |   1.88   \n",
            "   1    |  1660   |   0.664980   |     -      |     -     |   1.86   \n",
            "   1    |  1680   |   0.733684   |     -      |     -     |   1.87   \n",
            "   1    |  1700   |   0.685390   |     -      |     -     |   1.87   \n",
            "   1    |  1720   |   0.776451   |     -      |     -     |   1.88   \n",
            "   1    |  1740   |   0.654712   |     -      |     -     |   1.88   \n",
            "   1    |  1760   |   0.628246   |     -      |     -     |   1.88   \n",
            "   1    |  1780   |   0.663499   |     -      |     -     |   1.90   \n",
            "   1    |  1800   |   0.608097   |     -      |     -     |   1.87   \n",
            "   1    |  1820   |   0.709336   |     -      |     -     |   1.88   \n",
            "   1    |  1840   |   0.734813   |     -      |     -     |   1.88   \n",
            "   1    |  1860   |   0.629547   |     -      |     -     |   1.87   \n",
            "   1    |  1880   |   0.684962   |     -      |     -     |   1.90   \n",
            "   1    |  1900   |   0.731046   |     -      |     -     |   1.90   \n",
            "   1    |  1920   |   0.680434   |     -      |     -     |   1.88   \n",
            "   1    |  1940   |   0.618977   |     -      |     -     |   1.89   \n",
            "   1    |  1960   |   0.714790   |     -      |     -     |   1.87   \n",
            "   1    |  1980   |   0.666727   |     -      |     -     |   1.89   \n",
            "   1    |  2000   |   0.675287   |     -      |     -     |   1.90   \n",
            "   1    |  2020   |   0.644841   |     -      |     -     |   1.88   \n",
            "   1    |  2040   |   0.643002   |     -      |     -     |   1.89   \n",
            "   1    |  2060   |   0.610666   |     -      |     -     |   1.88   \n",
            "   1    |  2080   |   0.649271   |     -      |     -     |   1.87   \n",
            "   1    |  2100   |   0.705784   |     -      |     -     |   1.90   \n",
            "   1    |  2120   |   0.686534   |     -      |     -     |   1.89   \n",
            "   1    |  2140   |   0.683825   |     -      |     -     |   1.89   \n",
            "   1    |  2160   |   0.693129   |     -      |     -     |   1.89   \n",
            "   1    |  2180   |   0.696852   |     -      |     -     |   1.88   \n",
            "   1    |  2200   |   0.758700   |     -      |     -     |   1.87   \n",
            "   1    |  2220   |   0.657795   |     -      |     -     |   1.89   \n",
            "   1    |  2240   |   0.647789   |     -      |     -     |   1.87   \n",
            "   1    |  2260   |   0.718952   |     -      |     -     |   1.87   \n",
            "   1    |  2280   |   0.642543   |     -      |     -     |   1.87   \n",
            "   1    |  2300   |   0.681661   |     -      |     -     |   1.87   \n",
            "   1    |  2320   |   0.714271   |     -      |     -     |   1.86   \n",
            "   1    |  2340   |   0.676445   |     -      |     -     |   1.89   \n",
            "   1    |  2360   |   0.675032   |     -      |     -     |   1.88   \n",
            "   1    |  2380   |   0.675629   |     -      |     -     |   1.88   \n",
            "   1    |  2400   |   0.727430   |     -      |     -     |   1.88   \n",
            "   1    |  2420   |   0.718680   |     -      |     -     |   1.89   \n",
            "   1    |  2440   |   0.676636   |     -      |     -     |   1.89   \n",
            "   1    |  2460   |   0.697222   |     -      |     -     |   1.87   \n",
            "   1    |  2480   |   0.578280   |     -      |     -     |   1.88   \n",
            "   1    |  2500   |   0.654778   |     -      |     -     |   1.88   \n",
            "   1    |  2520   |   0.722334   |     -      |     -     |   1.88   \n",
            "   1    |  2540   |   0.642659   |     -      |     -     |   1.87   \n",
            "   1    |  2560   |   0.682745   |     -      |     -     |   1.88   \n",
            "   1    |  2580   |   0.701960   |     -      |     -     |   1.88   \n",
            "   1    |  2600   |   0.696619   |     -      |     -     |   1.86   \n",
            "   1    |  2620   |   0.653340   |     -      |     -     |   1.87   \n",
            "   1    |  2640   |   0.689199   |     -      |     -     |   1.88   \n",
            "   1    |  2660   |   0.691497   |     -      |     -     |   1.89   \n",
            "   1    |  2680   |   0.624988   |     -      |     -     |   1.86   \n",
            "   1    |  2700   |   0.675066   |     -      |     -     |   1.90   \n",
            "   1    |  2720   |   0.666861   |     -      |     -     |   1.87   \n",
            "   1    |  2740   |   0.714259   |     -      |     -     |   1.89   \n",
            "   1    |  2760   |   0.623298   |     -      |     -     |   1.87   \n",
            "   1    |  2780   |   0.615669   |     -      |     -     |   1.89   \n",
            "   1    |  2800   |   0.672737   |     -      |     -     |   1.87   \n",
            "   1    |  2820   |   0.698528   |     -      |     -     |   1.88   \n",
            "   1    |  2840   |   0.709898   |     -      |     -     |   1.87   \n",
            "   1    |  2860   |   0.645539   |     -      |     -     |   1.88   \n",
            "   1    |  2880   |   0.713621   |     -      |     -     |   1.86   \n",
            "   1    |  2900   |   0.640234   |     -      |     -     |   1.87   \n",
            "   1    |  2920   |   0.646280   |     -      |     -     |   1.86   \n",
            "   1    |  2940   |   0.650929   |     -      |     -     |   1.86   \n",
            "   1    |  2960   |   0.672533   |     -      |     -     |   1.85   \n",
            "   1    |  2975   |   0.616809   |     -      |     -     |   1.39   \n",
            "----------------------------------------------------------------------\n",
            "   1    |    -    |   0.712843   |  0.681015  |   69.65   |  297.81  \n",
            "----------------------------------------------------------------------\n",
            "\n",
            "\n",
            "Training complete!\n
            Test"
          ],
          "name": "stdout"
        }
      ]
    },
    {
      "cell_type": "code",
      "metadata": {
        "id": "2i9SXhRRgk3y"
      },
      "source": [
        ""
      ],
      "execution_count": 167,
      "outputs": []
    }
  ]
}
