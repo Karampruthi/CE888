{
  "nbformat": 4,
  "nbformat_minor": 0,
  "metadata": {
    "colab": {
      "name": "Exercise2_DogvsCat_CNN.ipynb",
      "provenance": [],
      "include_colab_link": true
    },
    "kernelspec": {
      "name": "python3",
      "display_name": "Python 3"
    },
    "accelerator": "GPU"
  },
  "cells": [
    {
      "cell_type": "markdown",
      "metadata": {
        "id": "view-in-github",
        "colab_type": "text"
      },
      "source": [
        "<a href=\"https://colab.research.google.com/github/Karampruthi/CE888-Data-Science-Decision-making/blob/main/Exercise2_DogvsCat_CNN.ipynb\" target=\"_parent\"><img src=\"https://colab.research.google.com/assets/colab-badge.svg\" alt=\"Open In Colab\"/></a>"
      ]
    },
    {
      "cell_type": "markdown",
      "metadata": {
        "id": "qTh9DiKVslsJ"
      },
      "source": [
        "## Dogs vs. Cats \n",
        "\n",
        "In this competition, you'll write an algorithm to classify whether images contain either a dog or a cat.  This is easy for humans, dogs, and cats. Your computer will find it a bit more difficult.\n",
        "\n",
        "![alt text](https://miro.medium.com/max/3000/1*bhFifratH9DjKqMBTeQG5A.gif)\n",
        "\n",
        "Ref: https://medium.com/@thegrigorian/rolling-in-the-deep-cnn-c8d3f7108c8c"
      ]
    },
    {
      "cell_type": "markdown",
      "metadata": {
        "id": "RSBI-_mSSY1g"
      },
      "source": [
        "Get your API Key from Kaggle using following steps:\n",
        "1. Login to [Kaggle](https://www.kaggle.com/) or Register if you don't have account\n",
        "2. Open Dataset (https://www.kaggle.com/c/dogs-vs-cats/rules) and accept terms and condition. \n",
        "3. On the top right corner click on your Icon and go to accounts and press a button \"Create New API Token\". It will download a JSON file containing your username and key. \n",
        "4. Now, paste both below. \n"
      ]
    },
    {
      "cell_type": "code",
      "metadata": {
        "id": "YmXSOc0tZIGA",
        "colab": {
          "base_uri": "https://localhost:8080/"
        },
        "outputId": "a4010396-1530-4505-fb48-51f35afcc860"
      },
      "source": [
        "import os\n",
        "# !pip install --upgrade --force-reinstall --no-deps kaggle\n",
        "os.environ['KAGGLE_USERNAME'] = \"karampruthi\" # username from the json file\n",
        "os.environ['KAGGLE_KEY'] = \"4ff896bc1e6d07fda9d2224e3fdb881c\" # key from the json file\n",
        "!kaggle competitions download -c dogs-vs-cats # api copied from kaggle (https://www.kaggle.com/c/dogs-vs-cats/data)"
      ],
      "execution_count": null,
      "outputs": [
        {
          "output_type": "stream",
          "text": [
            "Warning: Looks like you're using an outdated API Version, please consider updating (server 1.5.12 / client 1.5.4)\n",
            "Downloading sampleSubmission.csv to /content\n",
            "  0% 0.00/86.8k [00:00<?, ?B/s]\n",
            "100% 86.8k/86.8k [00:00<00:00, 63.3MB/s]\n",
            "Downloading train.zip to /content\n",
            " 96% 520M/543M [00:02<00:00, 226MB/s]\n",
            "100% 543M/543M [00:02<00:00, 212MB/s]\n",
            "Downloading test1.zip to /content\n",
            " 97% 264M/271M [00:02<00:00, 120MB/s] \n",
            "100% 271M/271M [00:02<00:00, 119MB/s]\n"
          ],
          "name": "stdout"
        }
      ]
    },
    {
      "cell_type": "code",
      "metadata": {
        "id": "PiwIL8d1n7eS",
        "colab": {
          "base_uri": "https://localhost:8080/"
        },
        "outputId": "7c0b1322-9a6f-4ddd-fcde-fd79c9c44615"
      },
      "source": [
        "# Unzip training data\n",
        "from zipfile import ZipFile\n",
        "file_name = \"/content/train.zip\"\n",
        "with ZipFile(file_name, 'r') as zip:\n",
        "  zip.extractall()\n",
        "  print('done')"
      ],
      "execution_count": null,
      "outputs": [
        {
          "output_type": "stream",
          "text": [
            "done\n"
          ],
          "name": "stdout"
        }
      ]
    },
    {
      "cell_type": "code",
      "metadata": {
        "id": "sa2Bj5i7pPKV",
        "colab": {
          "base_uri": "https://localhost:8080/"
        },
        "outputId": "ce0ba4b4-a218-486b-dacf-31f736a2d2a6"
      },
      "source": [
        "# Get all the paths\n",
        "data_dir_list = os.listdir('/content/train')\n",
        "#print(data_dir_list)\n",
        "path, dirs, files = next(os.walk(\"/content/train\"))\n",
        "file_count = len(files)\n",
        "print(file_count)"
      ],
      "execution_count": null,
      "outputs": [
        {
          "output_type": "stream",
          "text": [
            "25000\n"
          ],
          "name": "stdout"
        }
      ]
    },
    {
      "cell_type": "code",
      "metadata": {
        "id": "0ERlHkfHqpK8"
      },
      "source": [
        "# Make new base directory\n",
        "original_dataset_dir = '/content/train'\n",
        "base_dir = '/content/cats_and_dogs_small'\n",
        "os.mkdir(base_dir)"
      ],
      "execution_count": null,
      "outputs": []
    },
    {
      "cell_type": "code",
      "metadata": {
        "id": "AANB1UJ6rQhM"
      },
      "source": [
        "train_dir = os.path.join(base_dir, 'train')\n",
        "os.mkdir(train_dir)\n",
        "\n",
        "validation_dir = os.path.join(base_dir, 'validation')\n",
        "os.mkdir(validation_dir)\n",
        "\n",
        "test_dir = os.path.join(base_dir, 'test')\n",
        "os.mkdir(test_dir)\n",
        "\n",
        "train_cats_dir = os.path.join(train_dir, 'cats')\n",
        "os.mkdir(train_cats_dir)\n",
        "\n",
        "train_dogs_dir = os.path.join(train_dir, 'dogs')\n",
        "os.mkdir(train_dogs_dir)\n",
        "\n",
        "validation_cats_dir = os.path.join(validation_dir, 'cats')\n",
        "os.mkdir(validation_cats_dir)\n",
        "\n",
        "validation_dogs_dir = os.path.join(validation_dir, 'dogs')\n",
        "os.mkdir(validation_dogs_dir)\n",
        "\n",
        "test_cats_dir = os.path.join(test_dir, 'cats')\n",
        "os.mkdir(test_cats_dir)\n",
        "\n",
        "test_dogs_dir = os.path.join(test_dir, 'dogs')\n",
        "os.mkdir(test_dogs_dir)"
      ],
      "execution_count": null,
      "outputs": []
    },
    {
      "cell_type": "code",
      "metadata": {
        "id": "ULRgL9s9rV8T"
      },
      "source": [
        "import shutil\n",
        "fnames = ['cat.{}.jpg'.format(i) for i in range(1000)]\n",
        "for fname in fnames:\n",
        "    src = os.path.join(original_dataset_dir, fname)\n",
        "    dst = os.path.join(train_cats_dir, fname)\n",
        "    #print(src,dst)\n",
        "    shutil.copyfile(src, dst)\n",
        "    \n",
        "fnames = ['cat.{}.jpg'.format(i) for i in range(1000, 1500)]\n",
        "for fname in fnames:\n",
        "    src = os.path.join(original_dataset_dir, fname)\n",
        "    dst = os.path.join(validation_cats_dir, fname)\n",
        "    shutil.copyfile(src, dst)\n",
        "\n",
        "fnames = ['cat.{}.jpg'.format(i) for i in range(1500, 2000)]\n",
        "for fname in fnames:\n",
        "    src = os.path.join(original_dataset_dir, fname)\n",
        "    dst = os.path.join(test_cats_dir, fname)\n",
        "    shutil.copyfile(src, dst)\n",
        "    \n",
        "fnames = ['dog.{}.jpg'.format(i) for i in range(1000)]\n",
        "for fname in fnames:\n",
        "    src = os.path.join(original_dataset_dir, fname)\n",
        "    dst = os.path.join(train_dogs_dir, fname)\n",
        "    shutil.copyfile(src, dst)\n",
        "\n",
        "fnames = ['dog.{}.jpg'.format(i) for i in range(1000, 1500)]\n",
        "for fname in fnames:\n",
        "    src = os.path.join(original_dataset_dir, fname)\n",
        "    dst = os.path.join(validation_dogs_dir, fname)\n",
        "    shutil.copyfile(src, dst)\n",
        "\n",
        "fnames = ['dog.{}.jpg'.format(i) for i in range(1500, 2000)]\n",
        "for fname in fnames:\n",
        "    src = os.path.join(original_dataset_dir, fname)\n",
        "    dst = os.path.join(test_dogs_dir, fname)\n",
        "    shutil.copyfile(src, dst)"
      ],
      "execution_count": null,
      "outputs": []
    },
    {
      "cell_type": "code",
      "metadata": {
        "id": "ul3XAbIyr7vC",
        "colab": {
          "base_uri": "https://localhost:8080/"
        },
        "outputId": "d9c401eb-9441-4c6f-9c38-09e0a78bbae8"
      },
      "source": [
        "print('total training cat images:', len(os.listdir(train_cats_dir)))\n",
        "print('total training dog images:', len(os.listdir(train_dogs_dir)))\n",
        "print('total validation cat images:', len(os.listdir(validation_cats_dir)))\n",
        "\n",
        "print('total validation dog images:', len(os.listdir(validation_dogs_dir)))\n",
        "print('total test cat images:', len(os.listdir(test_cats_dir)))\n",
        "print('total test dog images:', len(os.listdir(test_dogs_dir)))"
      ],
      "execution_count": null,
      "outputs": [
        {
          "output_type": "stream",
          "text": [
            "total training cat images: 1000\n",
            "total training dog images: 1000\n",
            "total validation cat images: 500\n",
            "total validation dog images: 500\n",
            "total test cat images: 500\n",
            "total test dog images: 500\n"
          ],
          "name": "stdout"
        }
      ]
    },
    {
      "cell_type": "code",
      "metadata": {
        "id": "o9yTA21_r-ma",
        "colab": {
          "base_uri": "https://localhost:8080/"
        },
        "outputId": "886df612-2ea9-446e-e13e-1a15e3582017"
      },
      "source": [
        "from keras import layers\n",
        "from keras import models\n",
        "\n",
        "model = models.Sequential()\n",
        "model.add(layers.Conv2D(32, (3, 3), activation='relu', input_shape=(150, 150, 3)))\n",
        "model.add(layers.MaxPooling2D((2, 2)))\n",
        "model.add(layers.Conv2D(64, (3, 3), activation='relu'))\n",
        "model.add(layers.MaxPooling2D((2, 2)))\n",
        "model.add(layers.Conv2D(128, (3, 3), activation='relu'))\n",
        "model.add(layers.MaxPooling2D((2, 2)))\n",
        "model.add(layers.Conv2D(128, (3, 3), activation='relu'))\n",
        "model.add(layers.MaxPooling2D((2, 2)))\n",
        "model.add(layers.Flatten())\n",
        "model.add(layers.Dense(512, activation='relu'))\n",
        "model.add(layers.Dense(1, activation='sigmoid'))\n",
        "model.summary()"
      ],
      "execution_count": null,
      "outputs": [
        {
          "output_type": "stream",
          "text": [
            "Model: \"sequential\"\n",
            "_________________________________________________________________\n",
            "Layer (type)                 Output Shape              Param #   \n",
            "=================================================================\n",
            "conv2d (Conv2D)              (None, 148, 148, 32)      896       \n",
            "_________________________________________________________________\n",
            "max_pooling2d (MaxPooling2D) (None, 74, 74, 32)        0         \n",
            "_________________________________________________________________\n",
            "conv2d_1 (Conv2D)            (None, 72, 72, 64)        18496     \n",
            "_________________________________________________________________\n",
            "max_pooling2d_1 (MaxPooling2 (None, 36, 36, 64)        0         \n",
            "_________________________________________________________________\n",
            "conv2d_2 (Conv2D)            (None, 34, 34, 128)       73856     \n",
            "_________________________________________________________________\n",
            "max_pooling2d_2 (MaxPooling2 (None, 17, 17, 128)       0         \n",
            "_________________________________________________________________\n",
            "conv2d_3 (Conv2D)            (None, 15, 15, 128)       147584    \n",
            "_________________________________________________________________\n",
            "max_pooling2d_3 (MaxPooling2 (None, 7, 7, 128)         0         \n",
            "_________________________________________________________________\n",
            "flatten (Flatten)            (None, 6272)              0         \n",
            "_________________________________________________________________\n",
            "dense (Dense)                (None, 512)               3211776   \n",
            "_________________________________________________________________\n",
            "dense_1 (Dense)              (None, 1)                 513       \n",
            "=================================================================\n",
            "Total params: 3,453,121\n",
            "Trainable params: 3,453,121\n",
            "Non-trainable params: 0\n",
            "_________________________________________________________________\n"
          ],
          "name": "stdout"
        }
      ]
    },
    {
      "cell_type": "code",
      "metadata": {
        "id": "2mG8wekxsBVS"
      },
      "source": [
        "from keras import optimizers\n",
        "model.compile(loss='binary_crossentropy', \n",
        "              optimizer=optimizers.RMSprop(lr=1e-4),\n",
        "              metrics=['acc'])"
      ],
      "execution_count": null,
      "outputs": []
    },
    {
      "cell_type": "markdown",
      "metadata": {
        "id": "7zS4Klm8qWp6"
      },
      "source": [
        "## Using ImageDataGenerator to read images from directories\n",
        "As you know by now, data should be formatted into appropriately preprocessed floatingpoint tensors before being fed into the network. Currently, the data sits on a drive as JPEG files, so the steps for getting it into the network are roughly as follows:\n",
        "\n",
        "* Read the picture files.\n",
        "* Decode the JPEG content to RGB grids of pixels.\n",
        "* Convert these into floating-point tensors.\n",
        "* Rescale the pixel values (between 0 and 255) to the [0, 1] interval (as you know, neural networks prefer to deal with small input values).\n",
        "\n",
        "It may seem a bit daunting, but fortunately Keras has utilities to take care of these steps automatically. Keras has a module with image-processing helper tools, located at keras.preprocessing.image. In particular, it contains the class ImageDataGenerator,which lets you quickly set up Python generators that can automatically turn image files on disk into batches of preprocessed tensors."
      ]
    },
    {
      "cell_type": "code",
      "metadata": {
        "id": "XJ7XU7t9sEh6",
        "colab": {
          "base_uri": "https://localhost:8080/"
        },
        "outputId": "296579c0-e2e7-4092-fbab-4c1eb7010639"
      },
      "source": [
        "from keras.preprocessing.image import ImageDataGenerator\n",
        "\n",
        "train_datagen = ImageDataGenerator(rescale=1./255)\n",
        "test_datagen = ImageDataGenerator(rescale=1./255)\n",
        "\n",
        "\n",
        "train_generator = train_datagen.flow_from_directory(train_dir,\n",
        "                                                    target_size=(150, 150), \n",
        "                                                    batch_size=20,\n",
        "                                                    class_mode='binary')\n",
        "\n",
        "validation_generator = test_datagen.flow_from_directory(validation_dir,\n",
        "                                                        target_size=(150, 150),\n",
        "                                                        batch_size=20,\n",
        "                                                        class_mode='binary')"
      ],
      "execution_count": null,
      "outputs": [
        {
          "output_type": "stream",
          "text": [
            "Found 2000 images belonging to 2 classes.\n",
            "Found 1000 images belonging to 2 classes.\n"
          ],
          "name": "stdout"
        }
      ]
    },
    {
      "cell_type": "markdown",
      "metadata": {
        "id": "SEgLywySqm4u"
      },
      "source": [
        "Let’s fit the model to the data using the generator. You do so using the fit_generator method, the equivalent of fit for data generators like this one. It expects as its first argument a Python generator that will yield batches of inputs and targets indefinitely,like this one does. Because the data is being generated endlessly, the Keras model needs to know how many samples to draw from the generator before declaring anepoch over. This is the role of the `steps_per_epoch` argument: after having drawn `steps_per_epoch` batches from the generator—that is, after having run for `steps_per_epoch` gradient descent steps—the fitting process will go to the next epoch. In this case, batches are 20 samples, so it will take 100 batches until you see your target of 2,000 samples.\n",
        "\n",
        "When using fit_generator, you can pass a validation_data argument, much as with the fit method. It’s important to note that this argument is allowed to be a data generator, but it could also be a tuple of Numpy arrays. If you pass a generator as validation_data, then this generator is expected to yield batches of validation data endlessly; thus you should also specify the validation_steps argument, which tells the process how many batches to draw from the validation generator for evaluation."
      ]
    },
    {
      "cell_type": "code",
      "metadata": {
        "id": "yMyfPphJsJG6",
        "colab": {
          "base_uri": "https://localhost:8080/"
        },
        "outputId": "14b613ac-f667-478d-fd50-4c400d8bafd8"
      },
      "source": [
        "history = model.fit_generator(train_generator,\n",
        "                              steps_per_epoch=100,\n",
        "                              epochs=30,\n",
        "                              validation_data=validation_generator,\n",
        "                              validation_steps=50)"
      ],
      "execution_count": null,
      "outputs": [
        {
          "output_type": "stream",
          "text": [
            "/usr/local/lib/python3.7/dist-packages/tensorflow/python/keras/engine/training.py:1844: UserWarning: `Model.fit_generator` is deprecated and will be removed in a future version. Please use `Model.fit`, which supports generators.\n",
            "  warnings.warn('`Model.fit_generator` is deprecated and '\n"
          ],
          "name": "stderr"
        },
        {
          "output_type": "stream",
          "text": [
            "Epoch 1/30\n",
            "100/100 [==============================] - 16s 159ms/step - loss: 0.5177 - acc: 0.7525 - val_loss: 0.4725 - val_acc: 0.7800\n",
            "Epoch 2/30\n",
            "100/100 [==============================] - 16s 159ms/step - loss: 0.5085 - acc: 0.7475 - val_loss: 0.4920 - val_acc: 0.7680\n",
            "Epoch 3/30\n",
            "100/100 [==============================] - 16s 159ms/step - loss: 0.5003 - acc: 0.7640 - val_loss: 0.4547 - val_acc: 0.7880\n",
            "Epoch 4/30\n",
            "100/100 [==============================] - 16s 160ms/step - loss: 0.4943 - acc: 0.7665 - val_loss: 0.6246 - val_acc: 0.7100\n",
            "Epoch 5/30\n",
            "100/100 [==============================] - 16s 158ms/step - loss: 0.4966 - acc: 0.7645 - val_loss: 0.4593 - val_acc: 0.7760\n",
            "Epoch 6/30\n",
            "100/100 [==============================] - 16s 156ms/step - loss: 0.4909 - acc: 0.7670 - val_loss: 0.4821 - val_acc: 0.7740\n",
            "Epoch 7/30\n",
            "100/100 [==============================] - 16s 158ms/step - loss: 0.4914 - acc: 0.7550 - val_loss: 0.4247 - val_acc: 0.8020\n",
            "Epoch 8/30\n",
            "100/100 [==============================] - 16s 160ms/step - loss: 0.4944 - acc: 0.7675 - val_loss: 0.4527 - val_acc: 0.7900\n",
            "Epoch 9/30\n",
            "100/100 [==============================] - 16s 159ms/step - loss: 0.4820 - acc: 0.7810 - val_loss: 0.4785 - val_acc: 0.7800\n",
            "Epoch 10/30\n",
            "100/100 [==============================] - 16s 157ms/step - loss: 0.4755 - acc: 0.7815 - val_loss: 0.5769 - val_acc: 0.7380\n",
            "Epoch 11/30\n",
            "100/100 [==============================] - 16s 157ms/step - loss: 0.4789 - acc: 0.7795 - val_loss: 0.4910 - val_acc: 0.7780\n",
            "Epoch 12/30\n",
            "100/100 [==============================] - 16s 157ms/step - loss: 0.4787 - acc: 0.7745 - val_loss: 0.4535 - val_acc: 0.7900\n",
            "Epoch 13/30\n",
            "100/100 [==============================] - 16s 159ms/step - loss: 0.4558 - acc: 0.7895 - val_loss: 0.4951 - val_acc: 0.7800\n",
            "Epoch 14/30\n",
            "100/100 [==============================] - 16s 159ms/step - loss: 0.4610 - acc: 0.7890 - val_loss: 0.5598 - val_acc: 0.7100\n",
            "Epoch 15/30\n",
            "100/100 [==============================] - 16s 158ms/step - loss: 0.4529 - acc: 0.7870 - val_loss: 0.5457 - val_acc: 0.7620\n",
            "Epoch 16/30\n",
            "100/100 [==============================] - 16s 159ms/step - loss: 0.4614 - acc: 0.7970 - val_loss: 0.4074 - val_acc: 0.8180\n",
            "Epoch 17/30\n",
            "100/100 [==============================] - 16s 159ms/step - loss: 0.4548 - acc: 0.7880 - val_loss: 0.4497 - val_acc: 0.7940\n",
            "Epoch 18/30\n",
            "100/100 [==============================] - 16s 158ms/step - loss: 0.4455 - acc: 0.8030 - val_loss: 0.4574 - val_acc: 0.7840\n",
            "Epoch 19/30\n",
            "100/100 [==============================] - 16s 160ms/step - loss: 0.4379 - acc: 0.7970 - val_loss: 0.4824 - val_acc: 0.7920\n",
            "Epoch 20/30\n",
            "100/100 [==============================] - 16s 158ms/step - loss: 0.4510 - acc: 0.7995 - val_loss: 0.4211 - val_acc: 0.8040\n",
            "Epoch 21/30\n",
            "100/100 [==============================] - 16s 159ms/step - loss: 0.4380 - acc: 0.8015 - val_loss: 0.5351 - val_acc: 0.7680\n",
            "Epoch 22/30\n",
            "100/100 [==============================] - 16s 158ms/step - loss: 0.4419 - acc: 0.7885 - val_loss: 0.4214 - val_acc: 0.8140\n",
            "Epoch 23/30\n",
            "100/100 [==============================] - 16s 159ms/step - loss: 0.4313 - acc: 0.8120 - val_loss: 0.5904 - val_acc: 0.7680\n",
            "Epoch 24/30\n",
            "100/100 [==============================] - 16s 161ms/step - loss: 0.4315 - acc: 0.8015 - val_loss: 0.4298 - val_acc: 0.8040\n",
            "Epoch 25/30\n",
            "100/100 [==============================] - 16s 158ms/step - loss: 0.4411 - acc: 0.7955 - val_loss: 0.4486 - val_acc: 0.7800\n",
            "Epoch 26/30\n",
            "100/100 [==============================] - 16s 159ms/step - loss: 0.4302 - acc: 0.8035 - val_loss: 0.4259 - val_acc: 0.8140\n",
            "Epoch 27/30\n",
            "100/100 [==============================] - 16s 159ms/step - loss: 0.4328 - acc: 0.8095 - val_loss: 0.7989 - val_acc: 0.6700\n",
            "Epoch 28/30\n",
            "100/100 [==============================] - 16s 159ms/step - loss: 0.4058 - acc: 0.8145 - val_loss: 0.5090 - val_acc: 0.7860\n",
            "Epoch 29/30\n",
            "100/100 [==============================] - 16s 160ms/step - loss: 0.4232 - acc: 0.8250 - val_loss: 0.4182 - val_acc: 0.8080\n",
            "Epoch 30/30\n",
            "100/100 [==============================] - 16s 158ms/step - loss: 0.4199 - acc: 0.8145 - val_loss: 0.3758 - val_acc: 0.8320\n"
          ],
          "name": "stdout"
        }
      ]
    },
    {
      "cell_type": "code",
      "metadata": {
        "id": "MZaZ2HWZsNUi",
        "colab": {
          "base_uri": "https://localhost:8080/",
          "height": 545
        },
        "outputId": "49a317ed-fabd-4b63-d4a5-66cbcd0681f2"
      },
      "source": [
        "model.save('cats_and_dogs_small_1.h5')\n",
        "\n",
        "import matplotlib.pyplot as plt\n",
        "\n",
        "acc = history.history['acc']\n",
        "val_acc = history.history['val_acc']\n",
        "loss = history.history['loss']\n",
        "val_loss = history.history['val_loss']\n",
        "\n",
        "epochs = range(1, len(acc) + 1)\n",
        "\n",
        "plt.plot(epochs, acc, 'bo', label='Training acc')\n",
        "plt.plot(epochs, val_acc, 'b', label='Validation acc')\n",
        "plt.title('Training and validation accuracy')\n",
        "plt.legend()\n",
        "\n",
        "plt.figure()\n",
        "\n",
        "plt.plot(epochs, loss, 'bo', label='Training loss')\n",
        "plt.plot(epochs, val_loss, 'b', label='Validation loss')\n",
        "plt.title('Training and validation loss')\n",
        "plt.legend()\n",
        "\n",
        "plt.show()"
      ],
      "execution_count": null,
      "outputs": [
        {
          "output_type": "display_data",
          "data": {
            "image/png": "[encoded data removed]",
            "text/plain": [
              "<Figure size 432x288 with 1 Axes>"
            ]
          },
          "metadata": {
            "tags": [],
            "needs_background": "light"
          }
        },
        {
          "output_type": "display_data",
          "data": {
            "image/png": "[encoded data removed]",
            "text/plain": [
              "<Figure size 432x288 with 1 Axes>"
            ]
          },
          "metadata": {
            "tags": [],
            "needs_background": "light"
          }
        }
      ]
    },
    {
      "cell_type": "markdown",
      "metadata": {
        "id": "XKZmXmBcq_8-"
      },
      "source": [
        "## Convolutional Networks with Dropout\n",
        "\n",
        "![alt text](https://camo.githubusercontent.com/ee6fa1073247cd2c3d241300caf110d7a7541bc5/68747470733a2f2f63646e2d696d616765732d312e6d656469756d2e636f6d2f6d61782f3830302f312a4972644a355067684439596f4f7956415137334d4a772e676966)\n",
        "\n",
        "Ref: https://github.com/mneha4/Training-Neural-Nets---Guidelines"
      ]
    },
    {
      "cell_type": "code",
      "metadata": {
        "id": "wu3cqeYQrDeN"
      },
      "source": [
        "model = models.Sequential()\n",
        "model.add(layers.Conv2D(32, (3, 3), activation='relu', input_shape=(150, 150, 3)))\n",
        "model.add(layers.MaxPooling2D((2, 2)))\n",
        "model.add(layers.Conv2D(64, (3, 3), activation='relu'))\n",
        "model.add(layers.MaxPooling2D((2, 2)))\n",
        "model.add(layers.Conv2D(128, (3, 3), activation='relu'))\n",
        "model.add(layers.MaxPooling2D((2, 2)))\n",
        "model.add(layers.Conv2D(128, (3, 3), activation='relu'))\n",
        "model.add(layers.MaxPooling2D((2, 2)))\n",
        "model.add(layers.Flatten())\n",
        "model.add(layers.Dropout(0.5))\n",
        "model.add(layers.Dense(512, activation='relu'))\n",
        "model.add(layers.Dense(1, activation='sigmoid'))\n",
        "\n",
        "model.compile(loss='binary_crossentropy',\n",
        "              optimizer=optimizers.RMSprop(lr=5e-4),\n",
        "              metrics=['acc'])"
      ],
      "execution_count": null,
      "outputs": []
    },
    {
      "cell_type": "code",
      "metadata": {
        "id": "QSeLpvY0rH7F",
        "colab": {
          "base_uri": "https://localhost:8080/"
        },
        "outputId": "b9a4be76-266a-4af8-ae6a-0eb4dc31e6ef"
      },
      "source": [
        "\n",
        "train_datagen = ImageDataGenerator(rescale=1./255,\n",
        "                                   rotation_range=40,\n",
        "                                   width_shift_range=0.2,\n",
        "                                   height_shift_range=0.2,\n",
        "                                   shear_range=0.2,\n",
        "                                   zoom_range=0.2,\n",
        "                                   horizontal_flip=True,)\n",
        "\n",
        "test_datagen = ImageDataGenerator(rescale=1./255)\n",
        "\n",
        "train_generator = train_datagen.flow_from_directory(train_dir,\n",
        "                                                    target_size=(150, 150),\n",
        "                                                    batch_size=20,\n",
        "                                                    class_mode='binary')\n",
        "\n",
        "validation_generator = test_datagen.flow_from_directory(validation_dir,\n",
        "                                                        target_size=(150, 150),\n",
        "                                                        batch_size=20,\n",
        "                                                        class_mode='binary')\n",
        "\n",
        "history = model.fit_generator(train_generator,\n",
        "                              steps_per_epoch=100,\n",
        "                              epochs=20,\n",
        "                              validation_data=validation_generator,\n",
        "                              validation_steps=50)"
      ],
      "execution_count": null,
      "outputs": [
        {
          "output_type": "stream",
          "text": [
            "Found 2000 images belonging to 2 classes.\n",
            "Found 1000 images belonging to 2 classes.\n"
          ],
          "name": "stdout"
        },
        {
          "output_type": "stream",
          "text": [
            "/usr/local/lib/python3.7/dist-packages/tensorflow/python/keras/engine/training.py:1844: UserWarning: `Model.fit_generator` is deprecated and will be removed in a future version. Please use `Model.fit`, which supports generators.\n",
            "  warnings.warn('`Model.fit_generator` is deprecated and '\n"
          ],
          "name": "stderr"
        },
        {
          "output_type": "stream",
          "text": [
            "Epoch 1/20\n",
            "100/100 [==============================] - 19s 181ms/step - loss: 0.7062 - acc: 0.4840 - val_loss: 0.6905 - val_acc: 0.5270\n",
            "Epoch 2/20\n",
            "100/100 [==============================] - 19s 189ms/step - loss: 0.6981 - acc: 0.5429 - val_loss: 0.6493 - val_acc: 0.6440\n",
            "Epoch 3/20\n",
            "100/100 [==============================] - 19s 193ms/step - loss: 0.6779 - acc: 0.5966 - val_loss: 0.6186 - val_acc: 0.6580\n",
            "Epoch 4/20\n",
            "100/100 [==============================] - 18s 184ms/step - loss: 0.6363 - acc: 0.6451 - val_loss: 0.6041 - val_acc: 0.6590\n",
            "Epoch 5/20\n",
            "100/100 [==============================] - 18s 179ms/step - loss: 0.6329 - acc: 0.6487 - val_loss: 0.6559 - val_acc: 0.6250\n",
            "Epoch 6/20\n",
            "100/100 [==============================] - 18s 177ms/step - loss: 0.6210 - acc: 0.6568 - val_loss: 0.5980 - val_acc: 0.6820\n",
            "Epoch 7/20\n",
            "100/100 [==============================] - 17s 175ms/step - loss: 0.5957 - acc: 0.6821 - val_loss: 0.5824 - val_acc: 0.6870\n",
            "Epoch 8/20\n",
            "100/100 [==============================] - 17s 174ms/step - loss: 0.6246 - acc: 0.6637 - val_loss: 0.5817 - val_acc: 0.6870\n",
            "Epoch 9/20\n",
            "100/100 [==============================] - 17s 174ms/step - loss: 0.5950 - acc: 0.6967 - val_loss: 0.5502 - val_acc: 0.7310\n",
            "Epoch 10/20\n",
            "100/100 [==============================] - 17s 173ms/step - loss: 0.5924 - acc: 0.6688 - val_loss: 0.5522 - val_acc: 0.6950\n",
            "Epoch 11/20\n",
            "100/100 [==============================] - 17s 173ms/step - loss: 0.5791 - acc: 0.7062 - val_loss: 0.5341 - val_acc: 0.7390\n",
            "Epoch 12/20\n",
            "100/100 [==============================] - 17s 174ms/step - loss: 0.5953 - acc: 0.7051 - val_loss: 0.5077 - val_acc: 0.7500\n",
            "Epoch 13/20\n",
            "100/100 [==============================] - 18s 178ms/step - loss: 0.5471 - acc: 0.7224 - val_loss: 0.5028 - val_acc: 0.7430\n",
            "Epoch 14/20\n",
            "100/100 [==============================] - 17s 175ms/step - loss: 0.5686 - acc: 0.7065 - val_loss: 0.5180 - val_acc: 0.7380\n",
            "Epoch 15/20\n",
            "100/100 [==============================] - 18s 177ms/step - loss: 0.5458 - acc: 0.7246 - val_loss: 0.5374 - val_acc: 0.7270\n",
            "Epoch 16/20\n",
            "100/100 [==============================] - 17s 175ms/step - loss: 0.5591 - acc: 0.7229 - val_loss: 0.5174 - val_acc: 0.7440\n",
            "Epoch 17/20\n",
            "100/100 [==============================] - 18s 180ms/step - loss: 0.5382 - acc: 0.7203 - val_loss: 0.5231 - val_acc: 0.7350\n",
            "Epoch 18/20\n",
            "100/100 [==============================] - 18s 180ms/step - loss: 0.5565 - acc: 0.7148 - val_loss: 0.5149 - val_acc: 0.7260\n",
            "Epoch 19/20\n",
            "100/100 [==============================] - 18s 181ms/step - loss: 0.5304 - acc: 0.7364 - val_loss: 0.4853 - val_acc: 0.7580\n",
            "Epoch 20/20\n",
            "100/100 [==============================] - 18s 184ms/step - loss: 0.5415 - acc: 0.7289 - val_loss: 0.4606 - val_acc: 0.7810\n"
          ],
          "name": "stdout"
        }
      ]
    },
    {
      "cell_type": "markdown",
      "metadata": {
        "id": "BRdU5yrkUF_b"
      },
      "source": [
        "# Task 2:\n",
        "\n",
        "We have used Dropout to enhance the performance of the CNN model. Can you please use whatever you like to further enhance the performance from `val_acc: 0.7506`? "
      ]
    },
    {
      "cell_type": "markdown",
      "metadata": {
        "id": "HZ8fRVElCemh"
      },
      "source": [
        "# New Section"
      ]
    },
    {
      "cell_type": "markdown",
      "metadata": {
        "id": "TvvyeUjICfJv"
      },
      "source": [
        "# New Section"
      ]
    }
  ]
}
